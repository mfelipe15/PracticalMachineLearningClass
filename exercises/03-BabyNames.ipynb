{
 "cells": [
  {
   "cell_type": "markdown",
   "metadata": {},
   "source": [
    "# Exercise 03\n",
    "\n",
    "Analyze the baby names dataset using pandas"
   ]
  },
  {
   "cell_type": "code",
   "execution_count": 1,
   "metadata": {
    "collapsed": false
   },
   "outputs": [],
   "source": [
    "%matplotlib inline\n",
    "import pandas as pd\n",
    "import numpy as np\n",
    "from matplotlib import pyplot as plt"
   ]
  },
  {
   "cell_type": "code",
   "execution_count": 2,
   "metadata": {
    "collapsed": false
   },
   "outputs": [],
   "source": [
    "# Load dataset\n",
    "names = pd.read_csv('baby-names2.csv')"
   ]
  },
  {
   "cell_type": "code",
   "execution_count": 3,
   "metadata": {
    "collapsed": false
   },
   "outputs": [
    {
     "data": {
      "text/html": [
       "<div>\n",
       "<table border=\"1\" class=\"dataframe\">\n",
       "  <thead>\n",
       "    <tr style=\"text-align: right;\">\n",
       "      <th></th>\n",
       "      <th>year</th>\n",
       "      <th>name</th>\n",
       "      <th>prop</th>\n",
       "      <th>sex</th>\n",
       "      <th>soundex</th>\n",
       "    </tr>\n",
       "  </thead>\n",
       "  <tbody>\n",
       "    <tr>\n",
       "      <th>0</th>\n",
       "      <td>1880</td>\n",
       "      <td>John</td>\n",
       "      <td>0.081541</td>\n",
       "      <td>boy</td>\n",
       "      <td>J500</td>\n",
       "    </tr>\n",
       "    <tr>\n",
       "      <th>1</th>\n",
       "      <td>1880</td>\n",
       "      <td>William</td>\n",
       "      <td>0.080511</td>\n",
       "      <td>boy</td>\n",
       "      <td>W450</td>\n",
       "    </tr>\n",
       "    <tr>\n",
       "      <th>2</th>\n",
       "      <td>1880</td>\n",
       "      <td>James</td>\n",
       "      <td>0.050057</td>\n",
       "      <td>boy</td>\n",
       "      <td>J520</td>\n",
       "    </tr>\n",
       "    <tr>\n",
       "      <th>3</th>\n",
       "      <td>1880</td>\n",
       "      <td>Charles</td>\n",
       "      <td>0.045167</td>\n",
       "      <td>boy</td>\n",
       "      <td>C642</td>\n",
       "    </tr>\n",
       "    <tr>\n",
       "      <th>4</th>\n",
       "      <td>1880</td>\n",
       "      <td>George</td>\n",
       "      <td>0.043292</td>\n",
       "      <td>boy</td>\n",
       "      <td>G620</td>\n",
       "    </tr>\n",
       "  </tbody>\n",
       "</table>\n",
       "</div>"
      ],
      "text/plain": [
       "   year     name      prop  sex soundex\n",
       "0  1880     John  0.081541  boy    J500\n",
       "1  1880  William  0.080511  boy    W450\n",
       "2  1880    James  0.050057  boy    J520\n",
       "3  1880  Charles  0.045167  boy    C642\n",
       "4  1880   George  0.043292  boy    G620"
      ]
     },
     "execution_count": 3,
     "metadata": {},
     "output_type": "execute_result"
    }
   ],
   "source": [
    "names.head()"
   ]
  },
  {
   "cell_type": "code",
   "execution_count": 4,
   "metadata": {
    "collapsed": false
   },
   "outputs": [
    {
     "data": {
      "text/html": [
       "<div>\n",
       "<table border=\"1\" class=\"dataframe\">\n",
       "  <thead>\n",
       "    <tr style=\"text-align: right;\">\n",
       "      <th></th>\n",
       "      <th>year</th>\n",
       "      <th>name</th>\n",
       "      <th>prop</th>\n",
       "      <th>sex</th>\n",
       "      <th>soundex</th>\n",
       "    </tr>\n",
       "  </thead>\n",
       "  <tbody>\n",
       "    <tr>\n",
       "      <th>113000</th>\n",
       "      <td>1993</td>\n",
       "      <td>Michael</td>\n",
       "      <td>0.024010</td>\n",
       "      <td>boy</td>\n",
       "      <td>M240</td>\n",
       "    </tr>\n",
       "    <tr>\n",
       "      <th>113001</th>\n",
       "      <td>1993</td>\n",
       "      <td>Christopher</td>\n",
       "      <td>0.018572</td>\n",
       "      <td>boy</td>\n",
       "      <td>C623</td>\n",
       "    </tr>\n",
       "    <tr>\n",
       "      <th>113002</th>\n",
       "      <td>1993</td>\n",
       "      <td>Matthew</td>\n",
       "      <td>0.017332</td>\n",
       "      <td>boy</td>\n",
       "      <td>M300</td>\n",
       "    </tr>\n",
       "    <tr>\n",
       "      <th>113003</th>\n",
       "      <td>1993</td>\n",
       "      <td>Joshua</td>\n",
       "      <td>0.016268</td>\n",
       "      <td>boy</td>\n",
       "      <td>J200</td>\n",
       "    </tr>\n",
       "    <tr>\n",
       "      <th>113004</th>\n",
       "      <td>1993</td>\n",
       "      <td>Tyler</td>\n",
       "      <td>0.014439</td>\n",
       "      <td>boy</td>\n",
       "      <td>T460</td>\n",
       "    </tr>\n",
       "  </tbody>\n",
       "</table>\n",
       "</div>"
      ],
      "text/plain": [
       "        year         name      prop  sex soundex\n",
       "113000  1993      Michael  0.024010  boy    M240\n",
       "113001  1993  Christopher  0.018572  boy    C623\n",
       "113002  1993      Matthew  0.017332  boy    M300\n",
       "113003  1993       Joshua  0.016268  boy    J200\n",
       "113004  1993        Tyler  0.014439  boy    T460"
      ]
     },
     "execution_count": 4,
     "metadata": {},
     "output_type": "execute_result"
    }
   ],
   "source": [
    "names[names.year == 1993].head()    "
   ]
  },
  {
   "cell_type": "markdown",
   "metadata": {},
   "source": [
    "### segment the data into boy and girl names"
   ]
  },
  {
   "cell_type": "code",
   "execution_count": 5,
   "metadata": {
    "collapsed": false
   },
   "outputs": [],
   "source": [
    "boys = names[names.sex == 'boy'].copy()    \n",
    "girls = names[names.sex == 'girl'].copy()"
   ]
  },
  {
   "cell_type": "markdown",
   "metadata": {},
   "source": [
    "### Analyzing the popularity of a name over time"
   ]
  },
  {
   "cell_type": "code",
   "execution_count": 6,
   "metadata": {
    "collapsed": false
   },
   "outputs": [
    {
     "data": {
      "image/png": "[encoded data removed]",
      "text/plain": [
       "<matplotlib.figure.Figure at 0x7f8e33cb2780>"
      ]
     },
     "metadata": {},
     "output_type": "display_data"
    }
   ],
   "source": [
    "william = boys[boys['name']=='William']\n",
    "\n",
    "plt.plot(range(william.shape[0]), william['prop'])\n",
    "plt.xticks(range(william.shape[0])[::5], william['year'].values[::5], rotation='vertical')\n",
    "plt.ylim([0, 0.1])\n",
    "plt.show()"
   ]
  },
  {
   "cell_type": "code",
   "execution_count": 7,
   "metadata": {
    "collapsed": false
   },
   "outputs": [
    {
     "data": {
      "image/png": "[encoded data removed]",
      "text/plain": [
       "<matplotlib.figure.Figure at 0x7f8e33bc6eb8>"
      ]
     },
     "metadata": {},
     "output_type": "display_data"
    }
   ],
   "source": [
    "Daniel = boys[boys['name']=='Daniel']\n",
    "\n",
    "plt.plot(range(Daniel.shape[0]), Daniel['prop'])\n",
    "plt.xticks(range(Daniel.shape[0])[::5], Daniel['year'].values[::5], rotation='vertical')\n",
    "plt.ylim([0, 0.1])\n",
    "plt.show()"
   ]
  },
  {
   "cell_type": "markdown",
   "metadata": {},
   "source": [
    "# Exercise 03.1\n",
    "\n",
    "Which has been the most popular boy name every decade?\n",
    "\n",
    "---\n",
    "Cual ha sido el nombre de niño mas popular en cada decada"
   ]
  },
  {
   "cell_type": "code",
   "execution_count": 8,
   "metadata": {
    "collapsed": false
   },
   "outputs": [],
   "source": []
  },
  {
   "cell_type": "markdown",
   "metadata": {},
   "source": [
    "# Exercise 03.2\n",
    "\n",
    "Which has been the most popular girl name?\n",
    "\n",
    "---\n",
    "Cual ha sido el nombre de niña mas popular? "
   ]
  },
  {
   "cell_type": "code",
   "execution_count": null,
   "metadata": {
    "collapsed": true
   },
   "outputs": [],
   "source": []
  },
  {
   "cell_type": "markdown",
   "metadata": {},
   "source": [
    "# Exercise 03.3\n",
    "\n",
    "What is the most popular new girl name? (new is a name that appears only in the 2000's)\n",
    "\n",
    "---\n",
    "Cual es el nuevo nombre de niña mas popular? (Donde nuevo es un nombre que solo aparece en la ultima decada)"
   ]
  },
  {
   "cell_type": "code",
   "execution_count": null,
   "metadata": {
    "collapsed": true
   },
   "outputs": [],
   "source": []
  }
 ],
 "metadata": {
  "kernelspec": {
   "display_name": "Python 3",
   "language": "python",
   "name": "python3"
  },
  "language_info": {
   "codemirror_mode": {
    "name": "ipython",
    "version": 3
   },
   "file_extension": ".py",
   "mimetype": "text/x-python",
   "name": "python",
   "nbconvert_exporter": "python",
   "pygments_lexer": "ipython3",
   "version": "3.5.1"
  }
 },
 "nbformat": 4,
 "nbformat_minor": 0
}
