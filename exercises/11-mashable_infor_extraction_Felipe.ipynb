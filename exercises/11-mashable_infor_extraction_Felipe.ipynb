{
 "cells": [
  {
   "cell_type": "markdown",
   "metadata": {},
   "source": [
    "# Exercise 11\n",
    "\n",
    "## Information Retrieval"
   ]
  },
  {
   "cell_type": "markdown",
   "metadata": {},
   "source": [
    "# Exercice 11.1 (4 points)\n",
    "\n",
    "* Propose features to be extracted from a mashable article\n",
    "* Write one line to explain each proposed feature\n",
    "* Minimum 5"
   ]
  },
  {
   "cell_type": "markdown",
   "metadata": {},
   "source": [
    "1) Si la noticia es relacionada con tecnologia: Las noticias de este tipo captan mas la atención de los usuarios así que esto hace que se comparta mas que otro tipo de noticias."
   ]
  },
  {
   "cell_type": "markdown",
   "metadata": {},
   "source": [
    "2) Si incluye videos (no necesariamente YouTube): Los videos son herramientas visuales que captan la atención de los lectores y también influyen en que se comparta la noticia."
   ]
  },
  {
   "cell_type": "markdown",
   "metadata": {},
   "source": [
    "3) Si incluye vinculos a otras noticias: En ocasiones las noticias tienen vinculos con otras lo que hace mover al lector y asi ir conectando las noticias para una mejor información. "
   ]
  },
  {
   "cell_type": "markdown",
   "metadata": {},
   "source": [
    "4) Si incluye imagenes: Las imagenes son otras herramientas visuales que permiten mejor entendimiento de un tema. Cuando hay imagenes en las noticias el lector suele prestarle mas atención que si es solo texto."
   ]
  },
  {
   "cell_type": "markdown",
   "metadata": {},
   "source": [
    "5) Si la noticia está relacionada con entretenimiento (musica, concursos): Este tipo de noticas son muy llamativas y se comparten mas que las de otros tipos."
   ]
  },
  {
   "cell_type": "markdown",
   "metadata": {},
   "source": [
    "6) Si presenta variedad de redes sociales: Las redes sociales son maneras de conocer y conectarse con el mundo. Hay personas que tienen preferencias con las redes, algunas prefieren Twitter, otras Facebook y otras usan herramientas como Google+, Pinterest etc. Si la persona usa bastante las redes sociales (como la mayoria de gente) y encuentra su red social favorita es muy probale que comparta la noticia."
   ]
  },
  {
   "cell_type": "markdown",
   "metadata": {},
   "source": [
    "# Bonus Exercice 11.2 (3 points) \n",
    "\n",
    "* Calculate the len of the text for each article\n",
    "* Calculate the number of Embedded Tweets"
   ]
  },
  {
   "cell_type": "code",
   "execution_count": 1,
   "metadata": {
    "collapsed": true
   },
   "outputs": [],
   "source": [
    "url_ = 'http://mashable.com/2016/03/04/the-who-50th-anniversary'"
   ]
  },
  {
   "cell_type": "code",
   "execution_count": 2,
   "metadata": {
    "collapsed": true
   },
   "outputs": [],
   "source": [
    "url_ = 'http://mashable.com/2016/03/08/scotland-giant-rabbit-home'"
   ]
  },
  {
   "cell_type": "code",
   "execution_count": 3,
   "metadata": {
    "collapsed": true
   },
   "outputs": [],
   "source": [
    "url_ = 'http://mashable.com/2016/03/08/15-skills-digital-marketers'"
   ]
  },
  {
   "cell_type": "code",
   "execution_count": 4,
   "metadata": {
    "collapsed": true
   },
   "outputs": [],
   "source": [
    "url_ = 'http://mashable.com/2016/03/31/donald-trump-gaslighting-women'"
   ]
  }
 ],
 "metadata": {
  "kernelspec": {
   "display_name": "Python 3",
   "language": "python",
   "name": "python3"
  },
  "language_info": {
   "codemirror_mode": {
    "name": "ipython",
    "version": 3
   },
   "file_extension": ".py",
   "mimetype": "text/x-python",
   "name": "python",
   "nbconvert_exporter": "python",
   "pygments_lexer": "ipython3",
   "version": "3.5.1"
  }
 },
 "nbformat": 4,
 "nbformat_minor": 0
}
