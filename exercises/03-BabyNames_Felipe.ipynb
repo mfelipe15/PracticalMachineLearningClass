{
 "cells": [
  {
   "cell_type": "markdown",
   "metadata": {},
   "source": [
    "# Exercise 03\n",
    "\n",
    "Analyze the baby names dataset using pandas"
   ]
  },
  {
   "cell_type": "code",
   "execution_count": 1,
   "metadata": {
    "collapsed": false
   },
   "outputs": [],
   "source": [
    "%matplotlib inline\n",
    "import pandas as pd\n",
    "import numpy as np\n",
    "from matplotlib import pyplot as plt"
   ]
  },
  {
   "cell_type": "code",
   "execution_count": 2,
   "metadata": {
    "collapsed": false
   },
   "outputs": [
    {
     "data": {
      "text/plain": [
       "<function posix.getcwd>"
      ]
     },
     "execution_count": 2,
     "metadata": {},
     "output_type": "execute_result"
    }
   ],
   "source": [
    "import os\n",
    "os.getcwd"
   ]
  },
  {
   "cell_type": "code",
   "execution_count": 3,
   "metadata": {
    "collapsed": false
   },
   "outputs": [
    {
     "data": {
      "text/plain": [
       "(258000, 5)"
      ]
     },
     "execution_count": 3,
     "metadata": {},
     "output_type": "execute_result"
    }
   ],
   "source": [
    "# Load dataset\n",
    "names = pd.read_csv('baby-names2.csv')\n",
    "names.shape"
   ]
  },
  {
   "cell_type": "code",
   "execution_count": 4,
   "metadata": {
    "collapsed": false
   },
   "outputs": [
    {
     "data": {
      "text/html": [
       "<div>\n",
       "<table border=\"1\" class=\"dataframe\">\n",
       "  <thead>\n",
       "    <tr style=\"text-align: right;\">\n",
       "      <th></th>\n",
       "      <th>year</th>\n",
       "      <th>name</th>\n",
       "      <th>prop</th>\n",
       "      <th>sex</th>\n",
       "      <th>soundex</th>\n",
       "    </tr>\n",
       "  </thead>\n",
       "  <tbody>\n",
       "    <tr>\n",
       "      <th>0</th>\n",
       "      <td>1880</td>\n",
       "      <td>John</td>\n",
       "      <td>0.081541</td>\n",
       "      <td>boy</td>\n",
       "      <td>J500</td>\n",
       "    </tr>\n",
       "    <tr>\n",
       "      <th>1</th>\n",
       "      <td>1880</td>\n",
       "      <td>William</td>\n",
       "      <td>0.080511</td>\n",
       "      <td>boy</td>\n",
       "      <td>W450</td>\n",
       "    </tr>\n",
       "    <tr>\n",
       "      <th>2</th>\n",
       "      <td>1880</td>\n",
       "      <td>James</td>\n",
       "      <td>0.050057</td>\n",
       "      <td>boy</td>\n",
       "      <td>J520</td>\n",
       "    </tr>\n",
       "    <tr>\n",
       "      <th>3</th>\n",
       "      <td>1880</td>\n",
       "      <td>Charles</td>\n",
       "      <td>0.045167</td>\n",
       "      <td>boy</td>\n",
       "      <td>C642</td>\n",
       "    </tr>\n",
       "    <tr>\n",
       "      <th>4</th>\n",
       "      <td>1880</td>\n",
       "      <td>George</td>\n",
       "      <td>0.043292</td>\n",
       "      <td>boy</td>\n",
       "      <td>G620</td>\n",
       "    </tr>\n",
       "  </tbody>\n",
       "</table>\n",
       "</div>"
      ],
      "text/plain": [
       "   year     name      prop  sex soundex\n",
       "0  1880     John  0.081541  boy    J500\n",
       "1  1880  William  0.080511  boy    W450\n",
       "2  1880    James  0.050057  boy    J520\n",
       "3  1880  Charles  0.045167  boy    C642\n",
       "4  1880   George  0.043292  boy    G620"
      ]
     },
     "execution_count": 4,
     "metadata": {},
     "output_type": "execute_result"
    }
   ],
   "source": [
    "names.head()"
   ]
  },
  {
   "cell_type": "code",
   "execution_count": 5,
   "metadata": {
    "collapsed": false
   },
   "outputs": [
    {
     "data": {
      "text/html": [
       "<div>\n",
       "<table border=\"1\" class=\"dataframe\">\n",
       "  <thead>\n",
       "    <tr style=\"text-align: right;\">\n",
       "      <th></th>\n",
       "      <th>year</th>\n",
       "      <th>name</th>\n",
       "      <th>prop</th>\n",
       "      <th>sex</th>\n",
       "      <th>soundex</th>\n",
       "    </tr>\n",
       "  </thead>\n",
       "  <tbody>\n",
       "    <tr>\n",
       "      <th>113000</th>\n",
       "      <td>1993</td>\n",
       "      <td>Michael</td>\n",
       "      <td>0.024010</td>\n",
       "      <td>boy</td>\n",
       "      <td>M240</td>\n",
       "    </tr>\n",
       "    <tr>\n",
       "      <th>113001</th>\n",
       "      <td>1993</td>\n",
       "      <td>Christopher</td>\n",
       "      <td>0.018572</td>\n",
       "      <td>boy</td>\n",
       "      <td>C623</td>\n",
       "    </tr>\n",
       "    <tr>\n",
       "      <th>113002</th>\n",
       "      <td>1993</td>\n",
       "      <td>Matthew</td>\n",
       "      <td>0.017332</td>\n",
       "      <td>boy</td>\n",
       "      <td>M300</td>\n",
       "    </tr>\n",
       "    <tr>\n",
       "      <th>113003</th>\n",
       "      <td>1993</td>\n",
       "      <td>Joshua</td>\n",
       "      <td>0.016268</td>\n",
       "      <td>boy</td>\n",
       "      <td>J200</td>\n",
       "    </tr>\n",
       "    <tr>\n",
       "      <th>113004</th>\n",
       "      <td>1993</td>\n",
       "      <td>Tyler</td>\n",
       "      <td>0.014439</td>\n",
       "      <td>boy</td>\n",
       "      <td>T460</td>\n",
       "    </tr>\n",
       "  </tbody>\n",
       "</table>\n",
       "</div>"
      ],
      "text/plain": [
       "        year         name      prop  sex soundex\n",
       "113000  1993      Michael  0.024010  boy    M240\n",
       "113001  1993  Christopher  0.018572  boy    C623\n",
       "113002  1993      Matthew  0.017332  boy    M300\n",
       "113003  1993       Joshua  0.016268  boy    J200\n",
       "113004  1993        Tyler  0.014439  boy    T460"
      ]
     },
     "execution_count": 5,
     "metadata": {},
     "output_type": "execute_result"
    }
   ],
   "source": [
    "names[names.year == 1993].head()    "
   ]
  },
  {
   "cell_type": "code",
   "execution_count": 6,
   "metadata": {
    "collapsed": false
   },
   "outputs": [
    {
     "data": {
      "text/plain": [
       "(2000, 5)"
      ]
     },
     "execution_count": 6,
     "metadata": {},
     "output_type": "execute_result"
    }
   ],
   "source": [
    "names_1993= names[names.year == 1993]\n",
    "names_1993.shape"
   ]
  },
  {
   "cell_type": "code",
   "execution_count": 7,
   "metadata": {
    "collapsed": false
   },
   "outputs": [
    {
     "name": "stdout",
     "output_type": "stream",
     "text": [
      "error 1000\n"
     ]
    }
   ],
   "source": [
    "for i in range(1,names_1993.shape[0]):\n",
    "    actual = names_1993.iloc[i]['prop'] #.ix es ubicación\n",
    "    anterior = names_1993.iloc[i-1]['prop']\n",
    "    \n",
    "    if actual > anterior: \n",
    "        print('error', i)\n",
    "              "
   ]
  },
  {
   "cell_type": "code",
   "execution_count": 8,
   "metadata": {
    "collapsed": false
   },
   "outputs": [
    {
     "data": {
      "text/html": [
       "<div>\n",
       "<table border=\"1\" class=\"dataframe\">\n",
       "  <thead>\n",
       "    <tr style=\"text-align: right;\">\n",
       "      <th></th>\n",
       "      <th>year</th>\n",
       "      <th>name</th>\n",
       "      <th>prop</th>\n",
       "      <th>sex</th>\n",
       "      <th>soundex</th>\n",
       "    </tr>\n",
       "  </thead>\n",
       "  <tbody>\n",
       "    <tr>\n",
       "      <th>113998</th>\n",
       "      <td>1993</td>\n",
       "      <td>Dakoda</td>\n",
       "      <td>0.000058</td>\n",
       "      <td>boy</td>\n",
       "      <td>D230</td>\n",
       "    </tr>\n",
       "    <tr>\n",
       "      <th>113999</th>\n",
       "      <td>1993</td>\n",
       "      <td>Genaro</td>\n",
       "      <td>0.000058</td>\n",
       "      <td>boy</td>\n",
       "      <td>G560</td>\n",
       "    </tr>\n",
       "    <tr>\n",
       "      <th>242000</th>\n",
       "      <td>1993</td>\n",
       "      <td>Jessica</td>\n",
       "      <td>0.017753</td>\n",
       "      <td>girl</td>\n",
       "      <td>J220</td>\n",
       "    </tr>\n",
       "    <tr>\n",
       "      <th>242001</th>\n",
       "      <td>1993</td>\n",
       "      <td>Ashley</td>\n",
       "      <td>0.017690</td>\n",
       "      <td>girl</td>\n",
       "      <td>A240</td>\n",
       "    </tr>\n",
       "  </tbody>\n",
       "</table>\n",
       "</div>"
      ],
      "text/plain": [
       "        year     name      prop   sex soundex\n",
       "113998  1993   Dakoda  0.000058   boy    D230\n",
       "113999  1993   Genaro  0.000058   boy    G560\n",
       "242000  1993  Jessica  0.017753  girl    J220\n",
       "242001  1993   Ashley  0.017690  girl    A240"
      ]
     },
     "execution_count": 8,
     "metadata": {},
     "output_type": "execute_result"
    }
   ],
   "source": [
    "names_1993.iloc[998:1002]"
   ]
  },
  {
   "cell_type": "markdown",
   "metadata": {},
   "source": [
    "### segment the data into boy and girl names"
   ]
  },
  {
   "cell_type": "code",
   "execution_count": 9,
   "metadata": {
    "collapsed": false
   },
   "outputs": [],
   "source": [
    "boys = names[names.sex == 'boy'].copy()    \n",
    "girls = names[names.sex == 'girl'].copy()"
   ]
  },
  {
   "cell_type": "code",
   "execution_count": 10,
   "metadata": {
    "collapsed": false
   },
   "outputs": [
    {
     "data": {
      "text/plain": [
       "((129000, 5), (129000, 5))"
      ]
     },
     "execution_count": 10,
     "metadata": {},
     "output_type": "execute_result"
    }
   ],
   "source": [
    "boys.shape, girls.shape"
   ]
  },
  {
   "cell_type": "markdown",
   "metadata": {},
   "source": [
    "### Analyzing the popularity of a name over time"
   ]
  },
  {
   "cell_type": "code",
   "execution_count": 11,
   "metadata": {
    "collapsed": false
   },
   "outputs": [
    {
     "data": {
      "image/png": "[encoded data removed]",
      "text/plain": [
       "<matplotlib.figure.Figure at 0x10b62c6d8>"
      ]
     },
     "metadata": {},
     "output_type": "display_data"
    }
   ],
   "source": [
    "william = boys[boys['name']=='William']\n",
    "\n",
    "plt.plot(range(william.shape[0]), william['prop'])\n",
    "plt.xticks(range(william.shape[0])[::5], william['year'].values[::5], rotation='vertical')\n",
    "plt.ylim([0, 0.1])\n",
    "plt.show()"
   ]
  },
  {
   "cell_type": "code",
   "execution_count": 12,
   "metadata": {
    "collapsed": false
   },
   "outputs": [
    {
     "data": {
      "image/png": "[encoded data removed]",
      "text/plain": [
       "<matplotlib.figure.Figure at 0x103454438>"
      ]
     },
     "metadata": {},
     "output_type": "display_data"
    }
   ],
   "source": [
    "Daniel = boys[boys['name']=='Daniel']\n",
    "\n",
    "plt.plot(range(Daniel.shape[0]), Daniel['prop'])\n",
    "plt.xticks(range(Daniel.shape[0])[::5], Daniel['year'].values[::5], rotation='vertical')\n",
    "plt.ylim([0, 0.1])\n",
    "plt.show()"
   ]
  },
  {
   "cell_type": "markdown",
   "metadata": {},
   "source": [
    "# Exercise 03.1\n",
    "\n",
    "Which has been the most popular boy name every decade?\n",
    "\n",
    "---\n",
    "Cual ha sido el nombre de niño mas popular en cada decada"
   ]
  },
  {
   "cell_type": "code",
   "execution_count": 13,
   "metadata": {
    "collapsed": false
   },
   "outputs": [],
   "source": [
    "boys['decada'] = 0\n",
    "decada=list(range(1880,2020,10))\n",
    "for i in range(len(decada)-1):\n",
    "    boys.ix[(boys.year >= decada[i]) & (boys.year < decada[i+1]), 'decada'] = i\n"
   ]
  },
  {
   "cell_type": "code",
   "execution_count": 14,
   "metadata": {
    "collapsed": false
   },
   "outputs": [
    {
     "data": {
      "text/html": [
       "<div>\n",
       "<table border=\"1\" class=\"dataframe\">\n",
       "  <thead>\n",
       "    <tr style=\"text-align: right;\">\n",
       "      <th></th>\n",
       "      <th>year</th>\n",
       "      <th>name</th>\n",
       "      <th>prop</th>\n",
       "      <th>sex</th>\n",
       "      <th>soundex</th>\n",
       "      <th>decada</th>\n",
       "    </tr>\n",
       "  </thead>\n",
       "  <tbody>\n",
       "    <tr>\n",
       "      <th>0</th>\n",
       "      <td>1880</td>\n",
       "      <td>John</td>\n",
       "      <td>0.081541</td>\n",
       "      <td>boy</td>\n",
       "      <td>J500</td>\n",
       "      <td>0</td>\n",
       "    </tr>\n",
       "    <tr>\n",
       "      <th>1</th>\n",
       "      <td>1880</td>\n",
       "      <td>William</td>\n",
       "      <td>0.080511</td>\n",
       "      <td>boy</td>\n",
       "      <td>W450</td>\n",
       "      <td>0</td>\n",
       "    </tr>\n",
       "    <tr>\n",
       "      <th>2</th>\n",
       "      <td>1880</td>\n",
       "      <td>James</td>\n",
       "      <td>0.050057</td>\n",
       "      <td>boy</td>\n",
       "      <td>J520</td>\n",
       "      <td>0</td>\n",
       "    </tr>\n",
       "    <tr>\n",
       "      <th>3</th>\n",
       "      <td>1880</td>\n",
       "      <td>Charles</td>\n",
       "      <td>0.045167</td>\n",
       "      <td>boy</td>\n",
       "      <td>C642</td>\n",
       "      <td>0</td>\n",
       "    </tr>\n",
       "    <tr>\n",
       "      <th>4</th>\n",
       "      <td>1880</td>\n",
       "      <td>George</td>\n",
       "      <td>0.043292</td>\n",
       "      <td>boy</td>\n",
       "      <td>G620</td>\n",
       "      <td>0</td>\n",
       "    </tr>\n",
       "    <tr>\n",
       "      <th>5</th>\n",
       "      <td>1880</td>\n",
       "      <td>Frank</td>\n",
       "      <td>0.027380</td>\n",
       "      <td>boy</td>\n",
       "      <td>F652</td>\n",
       "      <td>0</td>\n",
       "    </tr>\n",
       "    <tr>\n",
       "      <th>6</th>\n",
       "      <td>1880</td>\n",
       "      <td>Joseph</td>\n",
       "      <td>0.022229</td>\n",
       "      <td>boy</td>\n",
       "      <td>J210</td>\n",
       "      <td>0</td>\n",
       "    </tr>\n",
       "    <tr>\n",
       "      <th>7</th>\n",
       "      <td>1880</td>\n",
       "      <td>Thomas</td>\n",
       "      <td>0.021401</td>\n",
       "      <td>boy</td>\n",
       "      <td>T520</td>\n",
       "      <td>0</td>\n",
       "    </tr>\n",
       "    <tr>\n",
       "      <th>8</th>\n",
       "      <td>1880</td>\n",
       "      <td>Henry</td>\n",
       "      <td>0.020641</td>\n",
       "      <td>boy</td>\n",
       "      <td>H560</td>\n",
       "      <td>0</td>\n",
       "    </tr>\n",
       "    <tr>\n",
       "      <th>9</th>\n",
       "      <td>1880</td>\n",
       "      <td>Robert</td>\n",
       "      <td>0.020404</td>\n",
       "      <td>boy</td>\n",
       "      <td>R163</td>\n",
       "      <td>0</td>\n",
       "    </tr>\n",
       "    <tr>\n",
       "      <th>10</th>\n",
       "      <td>1880</td>\n",
       "      <td>Edward</td>\n",
       "      <td>0.019965</td>\n",
       "      <td>boy</td>\n",
       "      <td>E363</td>\n",
       "      <td>0</td>\n",
       "    </tr>\n",
       "    <tr>\n",
       "      <th>11</th>\n",
       "      <td>1880</td>\n",
       "      <td>Harry</td>\n",
       "      <td>0.018175</td>\n",
       "      <td>boy</td>\n",
       "      <td>H600</td>\n",
       "      <td>0</td>\n",
       "    </tr>\n",
       "    <tr>\n",
       "      <th>12</th>\n",
       "      <td>1880</td>\n",
       "      <td>Walter</td>\n",
       "      <td>0.014822</td>\n",
       "      <td>boy</td>\n",
       "      <td>W436</td>\n",
       "      <td>0</td>\n",
       "    </tr>\n",
       "    <tr>\n",
       "      <th>13</th>\n",
       "      <td>1880</td>\n",
       "      <td>Arthur</td>\n",
       "      <td>0.013504</td>\n",
       "      <td>boy</td>\n",
       "      <td>A636</td>\n",
       "      <td>0</td>\n",
       "    </tr>\n",
       "    <tr>\n",
       "      <th>14</th>\n",
       "      <td>1880</td>\n",
       "      <td>Fred</td>\n",
       "      <td>0.013251</td>\n",
       "      <td>boy</td>\n",
       "      <td>F630</td>\n",
       "      <td>0</td>\n",
       "    </tr>\n",
       "    <tr>\n",
       "      <th>15</th>\n",
       "      <td>1880</td>\n",
       "      <td>Albert</td>\n",
       "      <td>0.012609</td>\n",
       "      <td>boy</td>\n",
       "      <td>A416</td>\n",
       "      <td>0</td>\n",
       "    </tr>\n",
       "    <tr>\n",
       "      <th>16</th>\n",
       "      <td>1880</td>\n",
       "      <td>Samuel</td>\n",
       "      <td>0.008648</td>\n",
       "      <td>boy</td>\n",
       "      <td>S540</td>\n",
       "      <td>0</td>\n",
       "    </tr>\n",
       "    <tr>\n",
       "      <th>17</th>\n",
       "      <td>1880</td>\n",
       "      <td>David</td>\n",
       "      <td>0.007339</td>\n",
       "      <td>boy</td>\n",
       "      <td>D130</td>\n",
       "      <td>0</td>\n",
       "    </tr>\n",
       "    <tr>\n",
       "      <th>18</th>\n",
       "      <td>1880</td>\n",
       "      <td>Louis</td>\n",
       "      <td>0.006993</td>\n",
       "      <td>boy</td>\n",
       "      <td>L200</td>\n",
       "      <td>0</td>\n",
       "    </tr>\n",
       "    <tr>\n",
       "      <th>19</th>\n",
       "      <td>1880</td>\n",
       "      <td>Joe</td>\n",
       "      <td>0.006174</td>\n",
       "      <td>boy</td>\n",
       "      <td>J000</td>\n",
       "      <td>0</td>\n",
       "    </tr>\n",
       "    <tr>\n",
       "      <th>20</th>\n",
       "      <td>1880</td>\n",
       "      <td>Charlie</td>\n",
       "      <td>0.006165</td>\n",
       "      <td>boy</td>\n",
       "      <td>C640</td>\n",
       "      <td>0</td>\n",
       "    </tr>\n",
       "    <tr>\n",
       "      <th>21</th>\n",
       "      <td>1880</td>\n",
       "      <td>Clarence</td>\n",
       "      <td>0.006165</td>\n",
       "      <td>boy</td>\n",
       "      <td>C465</td>\n",
       "      <td>0</td>\n",
       "    </tr>\n",
       "    <tr>\n",
       "      <th>22</th>\n",
       "      <td>1880</td>\n",
       "      <td>Richard</td>\n",
       "      <td>0.006148</td>\n",
       "      <td>boy</td>\n",
       "      <td>R263</td>\n",
       "      <td>0</td>\n",
       "    </tr>\n",
       "    <tr>\n",
       "      <th>23</th>\n",
       "      <td>1880</td>\n",
       "      <td>Andrew</td>\n",
       "      <td>0.005439</td>\n",
       "      <td>boy</td>\n",
       "      <td>A536</td>\n",
       "      <td>0</td>\n",
       "    </tr>\n",
       "    <tr>\n",
       "      <th>24</th>\n",
       "      <td>1880</td>\n",
       "      <td>Daniel</td>\n",
       "      <td>0.005430</td>\n",
       "      <td>boy</td>\n",
       "      <td>D540</td>\n",
       "      <td>0</td>\n",
       "    </tr>\n",
       "    <tr>\n",
       "      <th>25</th>\n",
       "      <td>1880</td>\n",
       "      <td>Ernest</td>\n",
       "      <td>0.005194</td>\n",
       "      <td>boy</td>\n",
       "      <td>E652</td>\n",
       "      <td>0</td>\n",
       "    </tr>\n",
       "    <tr>\n",
       "      <th>26</th>\n",
       "      <td>1880</td>\n",
       "      <td>Will</td>\n",
       "      <td>0.004966</td>\n",
       "      <td>boy</td>\n",
       "      <td>W400</td>\n",
       "      <td>0</td>\n",
       "    </tr>\n",
       "    <tr>\n",
       "      <th>27</th>\n",
       "      <td>1880</td>\n",
       "      <td>Jesse</td>\n",
       "      <td>0.004805</td>\n",
       "      <td>boy</td>\n",
       "      <td>J200</td>\n",
       "      <td>0</td>\n",
       "    </tr>\n",
       "    <tr>\n",
       "      <th>28</th>\n",
       "      <td>1880</td>\n",
       "      <td>Oscar</td>\n",
       "      <td>0.004594</td>\n",
       "      <td>boy</td>\n",
       "      <td>O260</td>\n",
       "      <td>0</td>\n",
       "    </tr>\n",
       "    <tr>\n",
       "      <th>29</th>\n",
       "      <td>1880</td>\n",
       "      <td>Lewis</td>\n",
       "      <td>0.004366</td>\n",
       "      <td>boy</td>\n",
       "      <td>L200</td>\n",
       "      <td>0</td>\n",
       "    </tr>\n",
       "    <tr>\n",
       "      <th>...</th>\n",
       "      <td>...</td>\n",
       "      <td>...</td>\n",
       "      <td>...</td>\n",
       "      <td>...</td>\n",
       "      <td>...</td>\n",
       "      <td>...</td>\n",
       "    </tr>\n",
       "    <tr>\n",
       "      <th>128969</th>\n",
       "      <td>2008</td>\n",
       "      <td>Dangelo</td>\n",
       "      <td>0.000094</td>\n",
       "      <td>boy</td>\n",
       "      <td>D524</td>\n",
       "      <td>12</td>\n",
       "    </tr>\n",
       "    <tr>\n",
       "      <th>128970</th>\n",
       "      <td>2008</td>\n",
       "      <td>Landin</td>\n",
       "      <td>0.000094</td>\n",
       "      <td>boy</td>\n",
       "      <td>L535</td>\n",
       "      <td>12</td>\n",
       "    </tr>\n",
       "    <tr>\n",
       "      <th>128971</th>\n",
       "      <td>2008</td>\n",
       "      <td>Reagan</td>\n",
       "      <td>0.000094</td>\n",
       "      <td>boy</td>\n",
       "      <td>R250</td>\n",
       "      <td>12</td>\n",
       "    </tr>\n",
       "    <tr>\n",
       "      <th>128972</th>\n",
       "      <td>2008</td>\n",
       "      <td>Turner</td>\n",
       "      <td>0.000094</td>\n",
       "      <td>boy</td>\n",
       "      <td>T656</td>\n",
       "      <td>12</td>\n",
       "    </tr>\n",
       "    <tr>\n",
       "      <th>128973</th>\n",
       "      <td>2008</td>\n",
       "      <td>Arnav</td>\n",
       "      <td>0.000094</td>\n",
       "      <td>boy</td>\n",
       "      <td>A651</td>\n",
       "      <td>12</td>\n",
       "    </tr>\n",
       "    <tr>\n",
       "      <th>128974</th>\n",
       "      <td>2008</td>\n",
       "      <td>Brenton</td>\n",
       "      <td>0.000094</td>\n",
       "      <td>boy</td>\n",
       "      <td>B653</td>\n",
       "      <td>12</td>\n",
       "    </tr>\n",
       "    <tr>\n",
       "      <th>128975</th>\n",
       "      <td>2008</td>\n",
       "      <td>Callum</td>\n",
       "      <td>0.000094</td>\n",
       "      <td>boy</td>\n",
       "      <td>C450</td>\n",
       "      <td>12</td>\n",
       "    </tr>\n",
       "    <tr>\n",
       "      <th>128976</th>\n",
       "      <td>2008</td>\n",
       "      <td>Jayvion</td>\n",
       "      <td>0.000094</td>\n",
       "      <td>boy</td>\n",
       "      <td>J150</td>\n",
       "      <td>12</td>\n",
       "    </tr>\n",
       "    <tr>\n",
       "      <th>128977</th>\n",
       "      <td>2008</td>\n",
       "      <td>Bridger</td>\n",
       "      <td>0.000093</td>\n",
       "      <td>boy</td>\n",
       "      <td>B632</td>\n",
       "      <td>12</td>\n",
       "    </tr>\n",
       "    <tr>\n",
       "      <th>128978</th>\n",
       "      <td>2008</td>\n",
       "      <td>Sammy</td>\n",
       "      <td>0.000093</td>\n",
       "      <td>boy</td>\n",
       "      <td>S500</td>\n",
       "      <td>12</td>\n",
       "    </tr>\n",
       "    <tr>\n",
       "      <th>128979</th>\n",
       "      <td>2008</td>\n",
       "      <td>Deegan</td>\n",
       "      <td>0.000093</td>\n",
       "      <td>boy</td>\n",
       "      <td>D250</td>\n",
       "      <td>12</td>\n",
       "    </tr>\n",
       "    <tr>\n",
       "      <th>128980</th>\n",
       "      <td>2008</td>\n",
       "      <td>Jaylan</td>\n",
       "      <td>0.000093</td>\n",
       "      <td>boy</td>\n",
       "      <td>J450</td>\n",
       "      <td>12</td>\n",
       "    </tr>\n",
       "    <tr>\n",
       "      <th>128981</th>\n",
       "      <td>2008</td>\n",
       "      <td>Lennon</td>\n",
       "      <td>0.000093</td>\n",
       "      <td>boy</td>\n",
       "      <td>L550</td>\n",
       "      <td>12</td>\n",
       "    </tr>\n",
       "    <tr>\n",
       "      <th>128982</th>\n",
       "      <td>2008</td>\n",
       "      <td>Odin</td>\n",
       "      <td>0.000093</td>\n",
       "      <td>boy</td>\n",
       "      <td>O350</td>\n",
       "      <td>12</td>\n",
       "    </tr>\n",
       "    <tr>\n",
       "      <th>128983</th>\n",
       "      <td>2008</td>\n",
       "      <td>Abdiel</td>\n",
       "      <td>0.000092</td>\n",
       "      <td>boy</td>\n",
       "      <td>A134</td>\n",
       "      <td>12</td>\n",
       "    </tr>\n",
       "    <tr>\n",
       "      <th>128984</th>\n",
       "      <td>2008</td>\n",
       "      <td>Jerimiah</td>\n",
       "      <td>0.000092</td>\n",
       "      <td>boy</td>\n",
       "      <td>J650</td>\n",
       "      <td>12</td>\n",
       "    </tr>\n",
       "    <tr>\n",
       "      <th>128985</th>\n",
       "      <td>2008</td>\n",
       "      <td>Eliezer</td>\n",
       "      <td>0.000092</td>\n",
       "      <td>boy</td>\n",
       "      <td>E426</td>\n",
       "      <td>12</td>\n",
       "    </tr>\n",
       "    <tr>\n",
       "      <th>128986</th>\n",
       "      <td>2008</td>\n",
       "      <td>Bronson</td>\n",
       "      <td>0.000091</td>\n",
       "      <td>boy</td>\n",
       "      <td>B652</td>\n",
       "      <td>12</td>\n",
       "    </tr>\n",
       "    <tr>\n",
       "      <th>128987</th>\n",
       "      <td>2008</td>\n",
       "      <td>Cornelius</td>\n",
       "      <td>0.000091</td>\n",
       "      <td>boy</td>\n",
       "      <td>C654</td>\n",
       "      <td>12</td>\n",
       "    </tr>\n",
       "    <tr>\n",
       "      <th>128988</th>\n",
       "      <td>2008</td>\n",
       "      <td>Pierre</td>\n",
       "      <td>0.000091</td>\n",
       "      <td>boy</td>\n",
       "      <td>P600</td>\n",
       "      <td>12</td>\n",
       "    </tr>\n",
       "    <tr>\n",
       "      <th>128989</th>\n",
       "      <td>2008</td>\n",
       "      <td>Cortez</td>\n",
       "      <td>0.000091</td>\n",
       "      <td>boy</td>\n",
       "      <td>C632</td>\n",
       "      <td>12</td>\n",
       "    </tr>\n",
       "    <tr>\n",
       "      <th>128990</th>\n",
       "      <td>2008</td>\n",
       "      <td>Baron</td>\n",
       "      <td>0.000090</td>\n",
       "      <td>boy</td>\n",
       "      <td>B650</td>\n",
       "      <td>12</td>\n",
       "    </tr>\n",
       "    <tr>\n",
       "      <th>128991</th>\n",
       "      <td>2008</td>\n",
       "      <td>Carlo</td>\n",
       "      <td>0.000090</td>\n",
       "      <td>boy</td>\n",
       "      <td>C640</td>\n",
       "      <td>12</td>\n",
       "    </tr>\n",
       "    <tr>\n",
       "      <th>128992</th>\n",
       "      <td>2008</td>\n",
       "      <td>Carsen</td>\n",
       "      <td>0.000090</td>\n",
       "      <td>boy</td>\n",
       "      <td>C625</td>\n",
       "      <td>12</td>\n",
       "    </tr>\n",
       "    <tr>\n",
       "      <th>128993</th>\n",
       "      <td>2008</td>\n",
       "      <td>Fletcher</td>\n",
       "      <td>0.000090</td>\n",
       "      <td>boy</td>\n",
       "      <td>F432</td>\n",
       "      <td>12</td>\n",
       "    </tr>\n",
       "    <tr>\n",
       "      <th>128994</th>\n",
       "      <td>2008</td>\n",
       "      <td>Izayah</td>\n",
       "      <td>0.000090</td>\n",
       "      <td>boy</td>\n",
       "      <td>I200</td>\n",
       "      <td>12</td>\n",
       "    </tr>\n",
       "    <tr>\n",
       "      <th>128995</th>\n",
       "      <td>2008</td>\n",
       "      <td>Kolten</td>\n",
       "      <td>0.000090</td>\n",
       "      <td>boy</td>\n",
       "      <td>K435</td>\n",
       "      <td>12</td>\n",
       "    </tr>\n",
       "    <tr>\n",
       "      <th>128996</th>\n",
       "      <td>2008</td>\n",
       "      <td>Damari</td>\n",
       "      <td>0.000089</td>\n",
       "      <td>boy</td>\n",
       "      <td>D560</td>\n",
       "      <td>12</td>\n",
       "    </tr>\n",
       "    <tr>\n",
       "      <th>128997</th>\n",
       "      <td>2008</td>\n",
       "      <td>Hugh</td>\n",
       "      <td>0.000089</td>\n",
       "      <td>boy</td>\n",
       "      <td>H200</td>\n",
       "      <td>12</td>\n",
       "    </tr>\n",
       "    <tr>\n",
       "      <th>128998</th>\n",
       "      <td>2008</td>\n",
       "      <td>Jensen</td>\n",
       "      <td>0.000089</td>\n",
       "      <td>boy</td>\n",
       "      <td>J525</td>\n",
       "      <td>12</td>\n",
       "    </tr>\n",
       "  </tbody>\n",
       "</table>\n",
       "<p>128999 rows × 6 columns</p>\n",
       "</div>"
      ],
      "text/plain": [
       "        year       name      prop  sex soundex  decada\n",
       "0       1880       John  0.081541  boy    J500       0\n",
       "1       1880    William  0.080511  boy    W450       0\n",
       "2       1880      James  0.050057  boy    J520       0\n",
       "3       1880    Charles  0.045167  boy    C642       0\n",
       "4       1880     George  0.043292  boy    G620       0\n",
       "5       1880      Frank  0.027380  boy    F652       0\n",
       "6       1880     Joseph  0.022229  boy    J210       0\n",
       "7       1880     Thomas  0.021401  boy    T520       0\n",
       "8       1880      Henry  0.020641  boy    H560       0\n",
       "9       1880     Robert  0.020404  boy    R163       0\n",
       "10      1880     Edward  0.019965  boy    E363       0\n",
       "11      1880      Harry  0.018175  boy    H600       0\n",
       "12      1880     Walter  0.014822  boy    W436       0\n",
       "13      1880     Arthur  0.013504  boy    A636       0\n",
       "14      1880       Fred  0.013251  boy    F630       0\n",
       "15      1880     Albert  0.012609  boy    A416       0\n",
       "16      1880     Samuel  0.008648  boy    S540       0\n",
       "17      1880      David  0.007339  boy    D130       0\n",
       "18      1880      Louis  0.006993  boy    L200       0\n",
       "19      1880        Joe  0.006174  boy    J000       0\n",
       "20      1880    Charlie  0.006165  boy    C640       0\n",
       "21      1880   Clarence  0.006165  boy    C465       0\n",
       "22      1880    Richard  0.006148  boy    R263       0\n",
       "23      1880     Andrew  0.005439  boy    A536       0\n",
       "24      1880     Daniel  0.005430  boy    D540       0\n",
       "25      1880     Ernest  0.005194  boy    E652       0\n",
       "26      1880       Will  0.004966  boy    W400       0\n",
       "27      1880      Jesse  0.004805  boy    J200       0\n",
       "28      1880      Oscar  0.004594  boy    O260       0\n",
       "29      1880      Lewis  0.004366  boy    L200       0\n",
       "...      ...        ...       ...  ...     ...     ...\n",
       "128969  2008    Dangelo  0.000094  boy    D524      12\n",
       "128970  2008     Landin  0.000094  boy    L535      12\n",
       "128971  2008     Reagan  0.000094  boy    R250      12\n",
       "128972  2008     Turner  0.000094  boy    T656      12\n",
       "128973  2008      Arnav  0.000094  boy    A651      12\n",
       "128974  2008    Brenton  0.000094  boy    B653      12\n",
       "128975  2008     Callum  0.000094  boy    C450      12\n",
       "128976  2008    Jayvion  0.000094  boy    J150      12\n",
       "128977  2008    Bridger  0.000093  boy    B632      12\n",
       "128978  2008      Sammy  0.000093  boy    S500      12\n",
       "128979  2008     Deegan  0.000093  boy    D250      12\n",
       "128980  2008     Jaylan  0.000093  boy    J450      12\n",
       "128981  2008     Lennon  0.000093  boy    L550      12\n",
       "128982  2008       Odin  0.000093  boy    O350      12\n",
       "128983  2008     Abdiel  0.000092  boy    A134      12\n",
       "128984  2008   Jerimiah  0.000092  boy    J650      12\n",
       "128985  2008    Eliezer  0.000092  boy    E426      12\n",
       "128986  2008    Bronson  0.000091  boy    B652      12\n",
       "128987  2008  Cornelius  0.000091  boy    C654      12\n",
       "128988  2008     Pierre  0.000091  boy    P600      12\n",
       "128989  2008     Cortez  0.000091  boy    C632      12\n",
       "128990  2008      Baron  0.000090  boy    B650      12\n",
       "128991  2008      Carlo  0.000090  boy    C640      12\n",
       "128992  2008     Carsen  0.000090  boy    C625      12\n",
       "128993  2008   Fletcher  0.000090  boy    F432      12\n",
       "128994  2008     Izayah  0.000090  boy    I200      12\n",
       "128995  2008     Kolten  0.000090  boy    K435      12\n",
       "128996  2008     Damari  0.000089  boy    D560      12\n",
       "128997  2008       Hugh  0.000089  boy    H200      12\n",
       "128998  2008     Jensen  0.000089  boy    J525      12\n",
       "\n",
       "[128999 rows x 6 columns]"
      ]
     },
     "execution_count": 14,
     "metadata": {},
     "output_type": "execute_result"
    }
   ],
   "source": [
    "boys[:-1]"
   ]
  },
  {
   "cell_type": "code",
   "execution_count": 15,
   "metadata": {
    "collapsed": false
   },
   "outputs": [
    {
     "data": {
      "text/plain": [
       "decada\n",
       "0     0.076488\n",
       "1     0.065564\n",
       "2     0.057788\n",
       "3     0.054421\n",
       "4     0.050654\n",
       "5     0.054431\n",
       "6     0.052746\n",
       "7     0.041306\n",
       "8     0.042683\n",
       "9     0.041350\n",
       "10    0.034584\n",
       "11    0.022407\n",
       "12    0.013236\n",
       "dtype: float64"
      ]
     },
     "execution_count": 15,
     "metadata": {},
     "output_type": "execute_result"
    }
   ],
   "source": [
    "tabla1=pd.pivot_table(boys, index='name', columns='decada', aggfunc=np.mean, values='prop')\n",
    "tabla1.max()"
   ]
  },
  {
   "cell_type": "code",
   "execution_count": 16,
   "metadata": {
    "collapsed": false
   },
   "outputs": [
    {
     "data": {
      "text/plain": [
       "decada\n",
       "0        John\n",
       "1        John\n",
       "2        John\n",
       "3        John\n",
       "4      Robert\n",
       "5      Robert\n",
       "6       James\n",
       "7       James\n",
       "8     Michael\n",
       "9     Michael\n",
       "10    Michael\n",
       "11    Michael\n",
       "12      Jacob\n",
       "dtype: object"
      ]
     },
     "execution_count": 16,
     "metadata": {},
     "output_type": "execute_result"
    }
   ],
   "source": [
    "tabla1.idxmax()"
   ]
  },
  {
   "cell_type": "markdown",
   "metadata": {},
   "source": [
    "# Exercise 03.2\n",
    "\n",
    "Which has been the most popular girl name?\n",
    "\n",
    "---\n",
    "Cual ha sido el nombre de niña mas popular? "
   ]
  },
  {
   "cell_type": "code",
   "execution_count": 17,
   "metadata": {
    "collapsed": false
   },
   "outputs": [
    {
     "data": {
      "text/plain": [
       "name\n",
       "Aaliyah     0.001317\n",
       "Aaron       0.000089\n",
       "Abagail     0.000133\n",
       "Abbey       0.000239\n",
       "Abbie       0.000243\n",
       "Abbigail    0.000242\n",
       "Abby        0.000390\n",
       "Abigail     0.001456\n",
       "Abigale     0.000134\n",
       "Abigayle    0.000159\n",
       "Abril       0.000164\n",
       "Achsah      0.000040\n",
       "Ada         0.001658\n",
       "Adah        0.000147\n",
       "Adaline     0.000087\n",
       "Adalyn      0.000214\n",
       "Adalynn     0.000160\n",
       "Adamaris    0.000136\n",
       "Adda        0.000108\n",
       "Addie       0.001019\n",
       "Addison     0.001415\n",
       "Addisyn     0.000241\n",
       "Addyson     0.000415\n",
       "Adel        0.000045\n",
       "Adela       0.000099\n",
       "Adelaide    0.000372\n",
       "Adele       0.000454\n",
       "Adelia      0.000127\n",
       "Adelina     0.000061\n",
       "Adeline     0.000565\n",
       "              ...   \n",
       "Zaniyah     0.000145\n",
       "Zara        0.000164\n",
       "Zaria       0.000209\n",
       "Zariah      0.000182\n",
       "Zela        0.000048\n",
       "Zelda       0.000130\n",
       "Zelia       0.000060\n",
       "Zella       0.000284\n",
       "Zelma       0.000299\n",
       "Zelpha      0.000056\n",
       "Zena        0.000066\n",
       "Zenobia     0.000058\n",
       "Zeta        0.000048\n",
       "Zetta       0.000078\n",
       "Zettie      0.000062\n",
       "Zhane       0.000153\n",
       "Zillah      0.000061\n",
       "Zilpah      0.000091\n",
       "Zilpha      0.000062\n",
       "Zina        0.000136\n",
       "Zion        0.000184\n",
       "Zita        0.000057\n",
       "Zoa         0.000074\n",
       "Zoe         0.000382\n",
       "Zoey        0.000679\n",
       "Zoie        0.000211\n",
       "Zola        0.000134\n",
       "Zona        0.000094\n",
       "Zora        0.000181\n",
       "Zula        0.000175\n",
       "Name: prop, dtype: float64"
      ]
     },
     "execution_count": 17,
     "metadata": {},
     "output_type": "execute_result"
    }
   ],
   "source": [
    "tabla2=pd.pivot_table(girls, index='name', aggfunc=np.mean, values='prop')\n",
    "tabla2"
   ]
  },
  {
   "cell_type": "code",
   "execution_count": 18,
   "metadata": {
    "collapsed": false
   },
   "outputs": [
    {
     "data": {
      "text/plain": [
       "'Mary'"
      ]
     },
     "execution_count": 18,
     "metadata": {},
     "output_type": "execute_result"
    }
   ],
   "source": [
    "tabla2.idxmax()"
   ]
  },
  {
   "cell_type": "markdown",
   "metadata": {},
   "source": [
    "# Exercise 03.3\n",
    "\n",
    "What is the most popular new girl name? (new is a name that appears only in the 2000's)\n",
    "\n",
    "---\n",
    "Cual es el nuevo nombre de niña mas popular? (Donde nuevo es un nombre que solo aparece en la ultima decada)"
   ]
  },
  {
   "cell_type": "code",
   "execution_count": 19,
   "metadata": {
    "collapsed": false
   },
   "outputs": [
    {
     "data": {
      "text/html": [
       "<div>\n",
       "<table border=\"1\" class=\"dataframe\">\n",
       "  <thead>\n",
       "    <tr style=\"text-align: right;\">\n",
       "      <th></th>\n",
       "      <th>year</th>\n",
       "      <th>name</th>\n",
       "      <th>prop</th>\n",
       "      <th>sex</th>\n",
       "      <th>soundex</th>\n",
       "      <th>decada</th>\n",
       "    </tr>\n",
       "  </thead>\n",
       "  <tbody>\n",
       "    <tr>\n",
       "      <th>129000</th>\n",
       "      <td>1880</td>\n",
       "      <td>Mary</td>\n",
       "      <td>0.072381</td>\n",
       "      <td>girl</td>\n",
       "      <td>M600</td>\n",
       "      <td>23</td>\n",
       "    </tr>\n",
       "    <tr>\n",
       "      <th>129001</th>\n",
       "      <td>1880</td>\n",
       "      <td>Anna</td>\n",
       "      <td>0.026678</td>\n",
       "      <td>girl</td>\n",
       "      <td>A500</td>\n",
       "      <td>23</td>\n",
       "    </tr>\n",
       "    <tr>\n",
       "      <th>129002</th>\n",
       "      <td>1880</td>\n",
       "      <td>Emma</td>\n",
       "      <td>0.020521</td>\n",
       "      <td>girl</td>\n",
       "      <td>E500</td>\n",
       "      <td>23</td>\n",
       "    </tr>\n",
       "    <tr>\n",
       "      <th>129003</th>\n",
       "      <td>1880</td>\n",
       "      <td>Elizabeth</td>\n",
       "      <td>0.019865</td>\n",
       "      <td>girl</td>\n",
       "      <td>E421</td>\n",
       "      <td>23</td>\n",
       "    </tr>\n",
       "    <tr>\n",
       "      <th>129004</th>\n",
       "      <td>1880</td>\n",
       "      <td>Minnie</td>\n",
       "      <td>0.017888</td>\n",
       "      <td>girl</td>\n",
       "      <td>M500</td>\n",
       "      <td>23</td>\n",
       "    </tr>\n",
       "  </tbody>\n",
       "</table>\n",
       "</div>"
      ],
      "text/plain": [
       "        year       name      prop   sex soundex  decada\n",
       "129000  1880       Mary  0.072381  girl    M600      23\n",
       "129001  1880       Anna  0.026678  girl    A500      23\n",
       "129002  1880       Emma  0.020521  girl    E500      23\n",
       "129003  1880  Elizabeth  0.019865  girl    E421      23\n",
       "129004  1880     Minnie  0.017888  girl    M500      23"
      ]
     },
     "execution_count": 19,
     "metadata": {},
     "output_type": "execute_result"
    }
   ],
   "source": [
    "girls[\"decada\"]=23\n",
    "girls.head()"
   ]
  },
  {
   "cell_type": "code",
   "execution_count": 20,
   "metadata": {
    "collapsed": true
   },
   "outputs": [],
   "source": [
    "girls.ix[(girls.year<2000),\"decada\"]=\"ant\"\n",
    "girls.ix[(girls.year>=2000),\"decada\"]=\"nuev\""
   ]
  },
  {
   "cell_type": "code",
   "execution_count": 21,
   "metadata": {
    "collapsed": false
   },
   "outputs": [
    {
     "data": {
      "text/html": [
       "<div>\n",
       "<table border=\"1\" class=\"dataframe\">\n",
       "  <thead>\n",
       "    <tr style=\"text-align: right;\">\n",
       "      <th>decada</th>\n",
       "      <th>ant</th>\n",
       "      <th>nuev</th>\n",
       "    </tr>\n",
       "    <tr>\n",
       "      <th>name</th>\n",
       "      <th></th>\n",
       "      <th></th>\n",
       "    </tr>\n",
       "  </thead>\n",
       "  <tbody>\n",
       "    <tr>\n",
       "      <th>Aaliyah</th>\n",
       "      <td>0.000671</td>\n",
       "      <td>0.001747</td>\n",
       "    </tr>\n",
       "    <tr>\n",
       "      <th>Aaron</th>\n",
       "      <td>0.000089</td>\n",
       "      <td>NaN</td>\n",
       "    </tr>\n",
       "    <tr>\n",
       "      <th>Abagail</th>\n",
       "      <td>0.000109</td>\n",
       "      <td>0.000135</td>\n",
       "    </tr>\n",
       "    <tr>\n",
       "      <th>Abbey</th>\n",
       "      <td>0.000233</td>\n",
       "      <td>0.000255</td>\n",
       "    </tr>\n",
       "    <tr>\n",
       "      <th>Abbie</th>\n",
       "      <td>0.000244</td>\n",
       "      <td>0.000234</td>\n",
       "    </tr>\n",
       "  </tbody>\n",
       "</table>\n",
       "</div>"
      ],
      "text/plain": [
       "decada        ant      nuev\n",
       "name                       \n",
       "Aaliyah  0.000671  0.001747\n",
       "Aaron    0.000089       NaN\n",
       "Abagail  0.000109  0.000135\n",
       "Abbey    0.000233  0.000255\n",
       "Abbie    0.000244  0.000234"
      ]
     },
     "execution_count": 21,
     "metadata": {},
     "output_type": "execute_result"
    }
   ],
   "source": [
    "base=pd.pivot_table(girls, index='name', columns='decada', values='prop', aggfunc=np.mean)\n",
    "base.head()"
   ]
  },
  {
   "cell_type": "code",
   "execution_count": 22,
   "metadata": {
    "collapsed": false
   },
   "outputs": [
    {
     "data": {
      "text/html": [
       "<div>\n",
       "<table border=\"1\" class=\"dataframe\">\n",
       "  <thead>\n",
       "    <tr style=\"text-align: right;\">\n",
       "      <th>decada</th>\n",
       "      <th>ant</th>\n",
       "      <th>nuev</th>\n",
       "      <th>new</th>\n",
       "    </tr>\n",
       "    <tr>\n",
       "      <th>name</th>\n",
       "      <th></th>\n",
       "      <th></th>\n",
       "      <th></th>\n",
       "    </tr>\n",
       "  </thead>\n",
       "  <tbody>\n",
       "    <tr>\n",
       "      <th>Aaliyah</th>\n",
       "      <td>0.000671</td>\n",
       "      <td>0.001747</td>\n",
       "      <td>0</td>\n",
       "    </tr>\n",
       "    <tr>\n",
       "      <th>Aaron</th>\n",
       "      <td>0.000089</td>\n",
       "      <td>NaN</td>\n",
       "      <td>0</td>\n",
       "    </tr>\n",
       "    <tr>\n",
       "      <th>Abagail</th>\n",
       "      <td>0.000109</td>\n",
       "      <td>0.000135</td>\n",
       "      <td>0</td>\n",
       "    </tr>\n",
       "    <tr>\n",
       "      <th>Abbey</th>\n",
       "      <td>0.000233</td>\n",
       "      <td>0.000255</td>\n",
       "      <td>0</td>\n",
       "    </tr>\n",
       "    <tr>\n",
       "      <th>Abbie</th>\n",
       "      <td>0.000244</td>\n",
       "      <td>0.000234</td>\n",
       "      <td>0</td>\n",
       "    </tr>\n",
       "  </tbody>\n",
       "</table>\n",
       "</div>"
      ],
      "text/plain": [
       "decada        ant      nuev  new\n",
       "name                            \n",
       "Aaliyah  0.000671  0.001747    0\n",
       "Aaron    0.000089       NaN    0\n",
       "Abagail  0.000109  0.000135    0\n",
       "Abbey    0.000233  0.000255    0\n",
       "Abbie    0.000244  0.000234    0"
      ]
     },
     "execution_count": 22,
     "metadata": {},
     "output_type": "execute_result"
    }
   ],
   "source": [
    "base[\"new\"]=0\n",
    "base.head()"
   ]
  },
  {
   "cell_type": "code",
   "execution_count": 24,
   "metadata": {
    "collapsed": false
   },
   "outputs": [
    {
     "data": {
      "text/html": [
       "<div>\n",
       "<table border=\"1\" class=\"dataframe\">\n",
       "  <thead>\n",
       "    <tr style=\"text-align: right;\">\n",
       "      <th>decada</th>\n",
       "      <th>ant</th>\n",
       "      <th>nuev</th>\n",
       "      <th>new</th>\n",
       "    </tr>\n",
       "    <tr>\n",
       "      <th>name</th>\n",
       "      <th></th>\n",
       "      <th></th>\n",
       "      <th></th>\n",
       "    </tr>\n",
       "  </thead>\n",
       "  <tbody>\n",
       "    <tr>\n",
       "      <th>Aaliyah</th>\n",
       "      <td>0.000671</td>\n",
       "      <td>0.001747</td>\n",
       "      <td>1</td>\n",
       "    </tr>\n",
       "    <tr>\n",
       "      <th>Aaron</th>\n",
       "      <td>0.000089</td>\n",
       "      <td>NaN</td>\n",
       "      <td>0</td>\n",
       "    </tr>\n",
       "    <tr>\n",
       "      <th>Abagail</th>\n",
       "      <td>0.000109</td>\n",
       "      <td>0.000135</td>\n",
       "      <td>1</td>\n",
       "    </tr>\n",
       "    <tr>\n",
       "      <th>Abbey</th>\n",
       "      <td>0.000233</td>\n",
       "      <td>0.000255</td>\n",
       "      <td>1</td>\n",
       "    </tr>\n",
       "    <tr>\n",
       "      <th>Abbie</th>\n",
       "      <td>0.000244</td>\n",
       "      <td>0.000234</td>\n",
       "      <td>1</td>\n",
       "    </tr>\n",
       "  </tbody>\n",
       "</table>\n",
       "</div>"
      ],
      "text/plain": [
       "decada        ant      nuev  new\n",
       "name                            \n",
       "Aaliyah  0.000671  0.001747    1\n",
       "Aaron    0.000089       NaN    0\n",
       "Abagail  0.000109  0.000135    1\n",
       "Abbey    0.000233  0.000255    1\n",
       "Abbie    0.000244  0.000234    1"
      ]
     },
     "execution_count": 24,
     "metadata": {},
     "output_type": "execute_result"
    }
   ],
   "source": [
    "for i in range(2):\n",
    "    base.ix[(base.ant >0)&(base.nuev>0),\"new\"]=1\n",
    "    \n",
    "base.head()"
   ]
  },
  {
   "cell_type": "code",
   "execution_count": 25,
   "metadata": {
    "collapsed": true
   },
   "outputs": [],
   "source": [
    "base2 = base[base.new==0].copy()"
   ]
  },
  {
   "cell_type": "code",
   "execution_count": 26,
   "metadata": {
    "collapsed": false
   },
   "outputs": [
    {
     "data": {
      "text/html": [
       "<div>\n",
       "<table border=\"1\" class=\"dataframe\">\n",
       "  <thead>\n",
       "    <tr style=\"text-align: right;\">\n",
       "      <th>decada</th>\n",
       "      <th>ant</th>\n",
       "      <th>nuev</th>\n",
       "      <th>new</th>\n",
       "    </tr>\n",
       "    <tr>\n",
       "      <th>name</th>\n",
       "      <th></th>\n",
       "      <th></th>\n",
       "      <th></th>\n",
       "    </tr>\n",
       "  </thead>\n",
       "  <tbody>\n",
       "    <tr>\n",
       "      <th>Aaron</th>\n",
       "      <td>0.000089</td>\n",
       "      <td>NaN</td>\n",
       "      <td>0</td>\n",
       "    </tr>\n",
       "    <tr>\n",
       "      <th>Achsah</th>\n",
       "      <td>0.000040</td>\n",
       "      <td>NaN</td>\n",
       "      <td>0</td>\n",
       "    </tr>\n",
       "    <tr>\n",
       "      <th>Adah</th>\n",
       "      <td>0.000147</td>\n",
       "      <td>NaN</td>\n",
       "      <td>0</td>\n",
       "    </tr>\n",
       "    <tr>\n",
       "      <th>Adaline</th>\n",
       "      <td>0.000087</td>\n",
       "      <td>NaN</td>\n",
       "      <td>0</td>\n",
       "    </tr>\n",
       "    <tr>\n",
       "      <th>Adalyn</th>\n",
       "      <td>NaN</td>\n",
       "      <td>0.000214</td>\n",
       "      <td>0</td>\n",
       "    </tr>\n",
       "  </tbody>\n",
       "</table>\n",
       "</div>"
      ],
      "text/plain": [
       "decada        ant      nuev  new\n",
       "name                            \n",
       "Aaron    0.000089       NaN    0\n",
       "Achsah   0.000040       NaN    0\n",
       "Adah     0.000147       NaN    0\n",
       "Adaline  0.000087       NaN    0\n",
       "Adalyn        NaN  0.000214    0"
      ]
     },
     "execution_count": 26,
     "metadata": {},
     "output_type": "execute_result"
    }
   ],
   "source": [
    "base2.head()"
   ]
  },
  {
   "cell_type": "code",
   "execution_count": 28,
   "metadata": {
    "collapsed": false
   },
   "outputs": [
    {
     "data": {
      "text/html": [
       "<div>\n",
       "<table border=\"1\" class=\"dataframe\">\n",
       "  <thead>\n",
       "    <tr style=\"text-align: right;\">\n",
       "      <th>decada</th>\n",
       "      <th>ant</th>\n",
       "      <th>nuev</th>\n",
       "      <th>new</th>\n",
       "    </tr>\n",
       "    <tr>\n",
       "      <th>name</th>\n",
       "      <th></th>\n",
       "      <th></th>\n",
       "      <th></th>\n",
       "    </tr>\n",
       "  </thead>\n",
       "  <tbody>\n",
       "    <tr>\n",
       "      <th>Aaron</th>\n",
       "      <td>0.000089</td>\n",
       "      <td>NaN</td>\n",
       "      <td>0</td>\n",
       "    </tr>\n",
       "    <tr>\n",
       "      <th>Achsah</th>\n",
       "      <td>0.000040</td>\n",
       "      <td>NaN</td>\n",
       "      <td>0</td>\n",
       "    </tr>\n",
       "    <tr>\n",
       "      <th>Adah</th>\n",
       "      <td>0.000147</td>\n",
       "      <td>NaN</td>\n",
       "      <td>0</td>\n",
       "    </tr>\n",
       "    <tr>\n",
       "      <th>Adaline</th>\n",
       "      <td>0.000087</td>\n",
       "      <td>NaN</td>\n",
       "      <td>0</td>\n",
       "    </tr>\n",
       "    <tr>\n",
       "      <th>Adalyn</th>\n",
       "      <td>NaN</td>\n",
       "      <td>0.000214</td>\n",
       "      <td>1</td>\n",
       "    </tr>\n",
       "  </tbody>\n",
       "</table>\n",
       "</div>"
      ],
      "text/plain": [
       "decada        ant      nuev  new\n",
       "name                            \n",
       "Aaron    0.000089       NaN    0\n",
       "Achsah   0.000040       NaN    0\n",
       "Adah     0.000147       NaN    0\n",
       "Adaline  0.000087       NaN    0\n",
       "Adalyn        NaN  0.000214    1"
      ]
     },
     "execution_count": 28,
     "metadata": {},
     "output_type": "execute_result"
    }
   ],
   "source": [
    "for i in range(2):\n",
    "    base2.ix[(base2.nuev >0),\"new\"]=1\n",
    "    \n",
    "base2.head()   "
   ]
  },
  {
   "cell_type": "code",
   "execution_count": 30,
   "metadata": {
    "collapsed": false
   },
   "outputs": [],
   "source": [
    "del base2[\"ant\"]"
   ]
  },
  {
   "cell_type": "code",
   "execution_count": 31,
   "metadata": {
    "collapsed": false
   },
   "outputs": [
    {
     "data": {
      "text/html": [
       "<div>\n",
       "<table border=\"1\" class=\"dataframe\">\n",
       "  <thead>\n",
       "    <tr style=\"text-align: right;\">\n",
       "      <th>decada</th>\n",
       "      <th>nuev</th>\n",
       "      <th>new</th>\n",
       "    </tr>\n",
       "    <tr>\n",
       "      <th>name</th>\n",
       "      <th></th>\n",
       "      <th></th>\n",
       "    </tr>\n",
       "  </thead>\n",
       "  <tbody>\n",
       "    <tr>\n",
       "      <th>Aaron</th>\n",
       "      <td>NaN</td>\n",
       "      <td>0</td>\n",
       "    </tr>\n",
       "    <tr>\n",
       "      <th>Achsah</th>\n",
       "      <td>NaN</td>\n",
       "      <td>0</td>\n",
       "    </tr>\n",
       "    <tr>\n",
       "      <th>Adah</th>\n",
       "      <td>NaN</td>\n",
       "      <td>0</td>\n",
       "    </tr>\n",
       "    <tr>\n",
       "      <th>Adaline</th>\n",
       "      <td>NaN</td>\n",
       "      <td>0</td>\n",
       "    </tr>\n",
       "    <tr>\n",
       "      <th>Adalyn</th>\n",
       "      <td>0.000214</td>\n",
       "      <td>1</td>\n",
       "    </tr>\n",
       "  </tbody>\n",
       "</table>\n",
       "</div>"
      ],
      "text/plain": [
       "decada       nuev  new\n",
       "name                  \n",
       "Aaron         NaN    0\n",
       "Achsah        NaN    0\n",
       "Adah          NaN    0\n",
       "Adaline       NaN    0\n",
       "Adalyn   0.000214    1"
      ]
     },
     "execution_count": 31,
     "metadata": {},
     "output_type": "execute_result"
    }
   ],
   "source": [
    "base2.head()"
   ]
  },
  {
   "cell_type": "code",
   "execution_count": 32,
   "metadata": {
    "collapsed": false
   },
   "outputs": [
    {
     "data": {
      "text/html": [
       "<div>\n",
       "<table border=\"1\" class=\"dataframe\">\n",
       "  <thead>\n",
       "    <tr style=\"text-align: right;\">\n",
       "      <th>decada</th>\n",
       "      <th>nuev</th>\n",
       "      <th>new</th>\n",
       "    </tr>\n",
       "    <tr>\n",
       "      <th>name</th>\n",
       "      <th></th>\n",
       "      <th></th>\n",
       "    </tr>\n",
       "  </thead>\n",
       "  <tbody>\n",
       "    <tr>\n",
       "      <th>Adalyn</th>\n",
       "      <td>0.000214</td>\n",
       "      <td>1</td>\n",
       "    </tr>\n",
       "    <tr>\n",
       "      <th>Adalynn</th>\n",
       "      <td>0.000160</td>\n",
       "      <td>1</td>\n",
       "    </tr>\n",
       "    <tr>\n",
       "      <th>Adamaris</th>\n",
       "      <td>0.000136</td>\n",
       "      <td>1</td>\n",
       "    </tr>\n",
       "    <tr>\n",
       "      <th>Addisyn</th>\n",
       "      <td>0.000241</td>\n",
       "      <td>1</td>\n",
       "    </tr>\n",
       "    <tr>\n",
       "      <th>Addyson</th>\n",
       "      <td>0.000415</td>\n",
       "      <td>1</td>\n",
       "    </tr>\n",
       "  </tbody>\n",
       "</table>\n",
       "</div>"
      ],
      "text/plain": [
       "decada        nuev  new\n",
       "name                   \n",
       "Adalyn    0.000214    1\n",
       "Adalynn   0.000160    1\n",
       "Adamaris  0.000136    1\n",
       "Addisyn   0.000241    1\n",
       "Addyson   0.000415    1"
      ]
     },
     "execution_count": 32,
     "metadata": {},
     "output_type": "execute_result"
    }
   ],
   "source": [
    "base3= base2[base2.new==1].copy()\n",
    "base3.head()"
   ]
  },
  {
   "cell_type": "code",
   "execution_count": 34,
   "metadata": {
    "collapsed": false
   },
   "outputs": [
    {
     "data": {
      "text/plain": [
       "name\n",
       "Adalyn      0.000214\n",
       "Adalynn     0.000160\n",
       "Adamaris    0.000136\n",
       "Addisyn     0.000241\n",
       "Addyson     0.000415\n",
       "Name: nuev, dtype: float64"
      ]
     },
     "execution_count": 34,
     "metadata": {},
     "output_type": "execute_result"
    }
   ],
   "source": [
    "final = base3.nuev\n",
    "final.head()"
   ]
  },
  {
   "cell_type": "code",
   "execution_count": 35,
   "metadata": {
    "collapsed": false
   },
   "outputs": [
    {
     "data": {
      "text/plain": [
       "'Nevaeh'"
      ]
     },
     "execution_count": 35,
     "metadata": {},
     "output_type": "execute_result"
    }
   ],
   "source": [
    "final.idxmax()"
   ]
  }
 ],
 "metadata": {
  "kernelspec": {
   "display_name": "Python 3",
   "language": "python",
   "name": "python3"
  },
  "language_info": {
   "codemirror_mode": {
    "name": "ipython",
    "version": 3
   },
   "file_extension": ".py",
   "mimetype": "text/x-python",
   "name": "python",
   "nbconvert_exporter": "python",
   "pygments_lexer": "ipython3",
   "version": "3.5.1"
  }
 },
 "nbformat": 4,
 "nbformat_minor": 0
}
