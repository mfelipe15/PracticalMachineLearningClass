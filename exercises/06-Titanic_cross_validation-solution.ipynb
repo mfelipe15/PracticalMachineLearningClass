{
 "cells": [
  {
   "cell_type": "markdown",
   "metadata": {},
   "source": [
    "# Exercise 06\n",
    "\n",
    "## Data preparation and model evaluation exercise with Titanic data\n",
    "\n",
    "\n",
    "\n",
    "\n",
    "We'll be working with a dataset from Kaggle's Titanic competition: [data](https://github.com/justmarkham/DAT8/blob/master/data/titanic.csv), [data dictionary](https://www.kaggle.com/c/titanic/data)\n",
    "\n",
    "**Goal**: Predict survival based on passenger characteristics\n",
    "\n",
    "The sinking of the RMS Titanic is one of the most infamous shipwrecks in history.  On April 15, 1912, during her maiden voyage, the Titanic sank after colliding with an iceberg, killing 1502 out of 2224 passengers and crew. This sensational tragedy shocked the international community and led to better safety regulations for ships.\n",
    "\n",
    "One of the reasons that the shipwreck led to such loss of life was that there were not enough lifeboats for the passengers and crew. Although there was some element of luck involved in surviving the sinking, some groups of people were more likely to survive than others, such as women, children, and the upper-class.\n",
    "\n",
    "In this challenge, we ask you to complete the analysis of what sorts of people were likely to survive. In particular, we ask you to apply the tools of machine learning to predict which passengers survived the tragedy.\n"
   ]
  },
  {
   "cell_type": "markdown",
   "metadata": {},
   "source": [
    "Read the data into Pandas"
   ]
  },
  {
   "cell_type": "code",
   "execution_count": 9,
   "metadata": {
    "collapsed": false
   },
   "outputs": [
    {
     "data": {
      "text/html": [
       "<div>\n",
       "<table border=\"1\" class=\"dataframe\">\n",
       "  <thead>\n",
       "    <tr style=\"text-align: right;\">\n",
       "      <th></th>\n",
       "      <th>Survived</th>\n",
       "      <th>Pclass</th>\n",
       "      <th>Name</th>\n",
       "      <th>Sex</th>\n",
       "      <th>Age</th>\n",
       "      <th>SibSp</th>\n",
       "      <th>Parch</th>\n",
       "      <th>Ticket</th>\n",
       "      <th>Fare</th>\n",
       "      <th>Cabin</th>\n",
       "      <th>Embarked</th>\n",
       "    </tr>\n",
       "    <tr>\n",
       "      <th>PassengerId</th>\n",
       "      <th></th>\n",
       "      <th></th>\n",
       "      <th></th>\n",
       "      <th></th>\n",
       "      <th></th>\n",
       "      <th></th>\n",
       "      <th></th>\n",
       "      <th></th>\n",
       "      <th></th>\n",
       "      <th></th>\n",
       "      <th></th>\n",
       "    </tr>\n",
       "  </thead>\n",
       "  <tbody>\n",
       "    <tr>\n",
       "      <th>1</th>\n",
       "      <td>0</td>\n",
       "      <td>3</td>\n",
       "      <td>Braund, Mr. Owen Harris</td>\n",
       "      <td>male</td>\n",
       "      <td>22</td>\n",
       "      <td>1</td>\n",
       "      <td>0</td>\n",
       "      <td>A/5 21171</td>\n",
       "      <td>7.2500</td>\n",
       "      <td>NaN</td>\n",
       "      <td>S</td>\n",
       "    </tr>\n",
       "    <tr>\n",
       "      <th>2</th>\n",
       "      <td>1</td>\n",
       "      <td>1</td>\n",
       "      <td>Cumings, Mrs. John Bradley (Florence Briggs Th...</td>\n",
       "      <td>female</td>\n",
       "      <td>38</td>\n",
       "      <td>1</td>\n",
       "      <td>0</td>\n",
       "      <td>PC 17599</td>\n",
       "      <td>71.2833</td>\n",
       "      <td>C85</td>\n",
       "      <td>C</td>\n",
       "    </tr>\n",
       "    <tr>\n",
       "      <th>3</th>\n",
       "      <td>1</td>\n",
       "      <td>3</td>\n",
       "      <td>Heikkinen, Miss. Laina</td>\n",
       "      <td>female</td>\n",
       "      <td>26</td>\n",
       "      <td>0</td>\n",
       "      <td>0</td>\n",
       "      <td>STON/O2. 3101282</td>\n",
       "      <td>7.9250</td>\n",
       "      <td>NaN</td>\n",
       "      <td>S</td>\n",
       "    </tr>\n",
       "    <tr>\n",
       "      <th>4</th>\n",
       "      <td>1</td>\n",
       "      <td>1</td>\n",
       "      <td>Futrelle, Mrs. Jacques Heath (Lily May Peel)</td>\n",
       "      <td>female</td>\n",
       "      <td>35</td>\n",
       "      <td>1</td>\n",
       "      <td>0</td>\n",
       "      <td>113803</td>\n",
       "      <td>53.1000</td>\n",
       "      <td>C123</td>\n",
       "      <td>S</td>\n",
       "    </tr>\n",
       "    <tr>\n",
       "      <th>5</th>\n",
       "      <td>0</td>\n",
       "      <td>3</td>\n",
       "      <td>Allen, Mr. William Henry</td>\n",
       "      <td>male</td>\n",
       "      <td>35</td>\n",
       "      <td>0</td>\n",
       "      <td>0</td>\n",
       "      <td>373450</td>\n",
       "      <td>8.0500</td>\n",
       "      <td>NaN</td>\n",
       "      <td>S</td>\n",
       "    </tr>\n",
       "  </tbody>\n",
       "</table>\n",
       "</div>"
      ],
      "text/plain": [
       "             Survived  Pclass  \\\n",
       "PassengerId                     \n",
       "1                   0       3   \n",
       "2                   1       1   \n",
       "3                   1       3   \n",
       "4                   1       1   \n",
       "5                   0       3   \n",
       "\n",
       "                                                          Name     Sex  Age  \\\n",
       "PassengerId                                                                   \n",
       "1                                      Braund, Mr. Owen Harris    male   22   \n",
       "2            Cumings, Mrs. John Bradley (Florence Briggs Th...  female   38   \n",
       "3                                       Heikkinen, Miss. Laina  female   26   \n",
       "4                 Futrelle, Mrs. Jacques Heath (Lily May Peel)  female   35   \n",
       "5                                     Allen, Mr. William Henry    male   35   \n",
       "\n",
       "             SibSp  Parch            Ticket     Fare Cabin Embarked  \n",
       "PassengerId                                                          \n",
       "1                1      0         A/5 21171   7.2500   NaN        S  \n",
       "2                1      0          PC 17599  71.2833   C85        C  \n",
       "3                0      0  STON/O2. 3101282   7.9250   NaN        S  \n",
       "4                1      0            113803  53.1000  C123        S  \n",
       "5                0      0            373450   8.0500   NaN        S  "
      ]
     },
     "execution_count": 9,
     "metadata": {},
     "output_type": "execute_result"
    }
   ],
   "source": [
    "import pandas as pd\n",
    "url = 'https://raw.githubusercontent.com/justmarkham/DAT8/master/data/titanic.csv'\n",
    "titanic = pd.read_csv(url, index_col='PassengerId')\n",
    "titanic.head()"
   ]
  },
  {
   "cell_type": "markdown",
   "metadata": {},
   "source": [
    "# Exercise 6.1 \n",
    "\n",
    "Impute the missing values of the age and Embarked"
   ]
  },
  {
   "cell_type": "code",
   "execution_count": 10,
   "metadata": {
    "collapsed": false
   },
   "outputs": [
    {
     "data": {
      "text/plain": [
       "Survived      0\n",
       "Pclass        0\n",
       "Name          0\n",
       "Sex           0\n",
       "Age         177\n",
       "SibSp         0\n",
       "Parch         0\n",
       "Ticket        0\n",
       "Fare          0\n",
       "Cabin       687\n",
       "Embarked      2\n",
       "dtype: int64"
      ]
     },
     "execution_count": 10,
     "metadata": {},
     "output_type": "execute_result"
    }
   ],
   "source": [
    "# check for missing values\n",
    "titanic.isnull().sum()"
   ]
  },
  {
   "cell_type": "code",
   "execution_count": 18,
   "metadata": {
    "collapsed": true
   },
   "outputs": [],
   "source": [
    "# fill missing values for Age with the median age\n",
    "titanic.Age.fillna(titanic.Age.median(), inplace=True)"
   ]
  },
  {
   "cell_type": "code",
   "execution_count": 28,
   "metadata": {
    "collapsed": false
   },
   "outputs": [],
   "source": [
    "# fill missing values for Embarked with the mode\n",
    "titanic.loc[titanic.Embarked.isnull(), 'Embarked'] = titanic.Embarked.mode().values"
   ]
  },
  {
   "cell_type": "code",
   "execution_count": 30,
   "metadata": {
    "collapsed": false
   },
   "outputs": [
    {
     "data": {
      "text/plain": [
       "Survived      0\n",
       "Pclass        0\n",
       "Name          0\n",
       "Sex           0\n",
       "Age           0\n",
       "SibSp         0\n",
       "Parch         0\n",
       "Ticket        0\n",
       "Fare          0\n",
       "Cabin       687\n",
       "Embarked      0\n",
       "dtype: int64"
      ]
     },
     "execution_count": 30,
     "metadata": {},
     "output_type": "execute_result"
    }
   ],
   "source": [
    "titanic.isnull().sum()"
   ]
  },
  {
   "cell_type": "markdown",
   "metadata": {},
   "source": [
    "# Exercise 6.3\n",
    "\n",
    "Convert the Sex and Embarked to categorical features"
   ]
  },
  {
   "cell_type": "code",
   "execution_count": 31,
   "metadata": {
    "collapsed": true
   },
   "outputs": [],
   "source": [
    "# encode Sex_Female feature\n",
    "titanic['Sex_Female'] = titanic.Sex.map({'male':0, 'female':1})"
   ]
  },
  {
   "cell_type": "code",
   "execution_count": 32,
   "metadata": {
    "collapsed": true
   },
   "outputs": [],
   "source": [
    "# create a DataFrame of dummy variables for Embarked\n",
    "embarked_dummies = pd.get_dummies(titanic.Embarked, prefix='Embarked')\n",
    "embarked_dummies.drop(embarked_dummies.columns[0], axis=1, inplace=True)\n",
    "\n",
    "# concatenate the original DataFrame and the dummy DataFrame\n",
    "titanic = pd.concat([titanic, embarked_dummies], axis=1)"
   ]
  },
  {
   "cell_type": "code",
   "execution_count": 36,
   "metadata": {
    "collapsed": false
   },
   "outputs": [
    {
     "data": {
      "text/html": [
       "<div>\n",
       "<table border=\"1\" class=\"dataframe\">\n",
       "  <thead>\n",
       "    <tr style=\"text-align: right;\">\n",
       "      <th></th>\n",
       "      <th>Survived</th>\n",
       "      <th>Pclass</th>\n",
       "      <th>Name</th>\n",
       "      <th>Sex</th>\n",
       "      <th>Age</th>\n",
       "      <th>SibSp</th>\n",
       "      <th>Parch</th>\n",
       "      <th>Ticket</th>\n",
       "      <th>Fare</th>\n",
       "      <th>Cabin</th>\n",
       "      <th>Embarked</th>\n",
       "      <th>Sex_Female</th>\n",
       "      <th>Embarked_Q</th>\n",
       "      <th>Embarked_S</th>\n",
       "    </tr>\n",
       "    <tr>\n",
       "      <th>PassengerId</th>\n",
       "      <th></th>\n",
       "      <th></th>\n",
       "      <th></th>\n",
       "      <th></th>\n",
       "      <th></th>\n",
       "      <th></th>\n",
       "      <th></th>\n",
       "      <th></th>\n",
       "      <th></th>\n",
       "      <th></th>\n",
       "      <th></th>\n",
       "      <th></th>\n",
       "      <th></th>\n",
       "      <th></th>\n",
       "    </tr>\n",
       "  </thead>\n",
       "  <tbody>\n",
       "    <tr>\n",
       "      <th>1</th>\n",
       "      <td>0</td>\n",
       "      <td>3</td>\n",
       "      <td>Braund, Mr. Owen Harris</td>\n",
       "      <td>male</td>\n",
       "      <td>22</td>\n",
       "      <td>1</td>\n",
       "      <td>0</td>\n",
       "      <td>A/5 21171</td>\n",
       "      <td>7.2500</td>\n",
       "      <td>NaN</td>\n",
       "      <td>S</td>\n",
       "      <td>0</td>\n",
       "      <td>0</td>\n",
       "      <td>1</td>\n",
       "    </tr>\n",
       "    <tr>\n",
       "      <th>2</th>\n",
       "      <td>1</td>\n",
       "      <td>1</td>\n",
       "      <td>Cumings, Mrs. John Bradley (Florence Briggs Th...</td>\n",
       "      <td>female</td>\n",
       "      <td>38</td>\n",
       "      <td>1</td>\n",
       "      <td>0</td>\n",
       "      <td>PC 17599</td>\n",
       "      <td>71.2833</td>\n",
       "      <td>C85</td>\n",
       "      <td>C</td>\n",
       "      <td>1</td>\n",
       "      <td>0</td>\n",
       "      <td>0</td>\n",
       "    </tr>\n",
       "    <tr>\n",
       "      <th>3</th>\n",
       "      <td>1</td>\n",
       "      <td>3</td>\n",
       "      <td>Heikkinen, Miss. Laina</td>\n",
       "      <td>female</td>\n",
       "      <td>26</td>\n",
       "      <td>0</td>\n",
       "      <td>0</td>\n",
       "      <td>STON/O2. 3101282</td>\n",
       "      <td>7.9250</td>\n",
       "      <td>NaN</td>\n",
       "      <td>S</td>\n",
       "      <td>1</td>\n",
       "      <td>0</td>\n",
       "      <td>1</td>\n",
       "    </tr>\n",
       "    <tr>\n",
       "      <th>4</th>\n",
       "      <td>1</td>\n",
       "      <td>1</td>\n",
       "      <td>Futrelle, Mrs. Jacques Heath (Lily May Peel)</td>\n",
       "      <td>female</td>\n",
       "      <td>35</td>\n",
       "      <td>1</td>\n",
       "      <td>0</td>\n",
       "      <td>113803</td>\n",
       "      <td>53.1000</td>\n",
       "      <td>C123</td>\n",
       "      <td>S</td>\n",
       "      <td>1</td>\n",
       "      <td>0</td>\n",
       "      <td>1</td>\n",
       "    </tr>\n",
       "    <tr>\n",
       "      <th>5</th>\n",
       "      <td>0</td>\n",
       "      <td>3</td>\n",
       "      <td>Allen, Mr. William Henry</td>\n",
       "      <td>male</td>\n",
       "      <td>35</td>\n",
       "      <td>0</td>\n",
       "      <td>0</td>\n",
       "      <td>373450</td>\n",
       "      <td>8.0500</td>\n",
       "      <td>NaN</td>\n",
       "      <td>S</td>\n",
       "      <td>0</td>\n",
       "      <td>0</td>\n",
       "      <td>1</td>\n",
       "    </tr>\n",
       "  </tbody>\n",
       "</table>\n",
       "</div>"
      ],
      "text/plain": [
       "             Survived  Pclass  \\\n",
       "PassengerId                     \n",
       "1                   0       3   \n",
       "2                   1       1   \n",
       "3                   1       3   \n",
       "4                   1       1   \n",
       "5                   0       3   \n",
       "\n",
       "                                                          Name     Sex  Age  \\\n",
       "PassengerId                                                                   \n",
       "1                                      Braund, Mr. Owen Harris    male   22   \n",
       "2            Cumings, Mrs. John Bradley (Florence Briggs Th...  female   38   \n",
       "3                                       Heikkinen, Miss. Laina  female   26   \n",
       "4                 Futrelle, Mrs. Jacques Heath (Lily May Peel)  female   35   \n",
       "5                                     Allen, Mr. William Henry    male   35   \n",
       "\n",
       "             SibSp  Parch            Ticket     Fare Cabin Embarked  \\\n",
       "PassengerId                                                           \n",
       "1                1      0         A/5 21171   7.2500   NaN        S   \n",
       "2                1      0          PC 17599  71.2833   C85        C   \n",
       "3                0      0  STON/O2. 3101282   7.9250   NaN        S   \n",
       "4                1      0            113803  53.1000  C123        S   \n",
       "5                0      0            373450   8.0500   NaN        S   \n",
       "\n",
       "             Sex_Female  Embarked_Q  Embarked_S  \n",
       "PassengerId                                      \n",
       "1                     0           0           1  \n",
       "2                     1           0           0  \n",
       "3                     1           0           1  \n",
       "4                     1           0           1  \n",
       "5                     0           0           1  "
      ]
     },
     "execution_count": 36,
     "metadata": {},
     "output_type": "execute_result"
    }
   ],
   "source": [
    "titanic.head()"
   ]
  },
  {
   "cell_type": "markdown",
   "metadata": {},
   "source": [
    "# Exercise 6.3 (2 points)\n",
    "\n",
    "From the set of features ['Pclass', 'Sex', 'Age', 'SibSp', 'Parch', 'Fare', 'Embarked']\n",
    "\n",
    "*Note, use the created categorical features for Sex and Embarked\n",
    "\n",
    "Select the features that maximize the **accuracy** the model using K-Fold cross-validation"
   ]
  },
  {
   "cell_type": "code",
   "execution_count": null,
   "metadata": {
    "collapsed": true
   },
   "outputs": [],
   "source": [
    "y = titanic['Survived']"
   ]
  },
  {
   "cell_type": "code",
   "execution_count": 38,
   "metadata": {
    "collapsed": true
   },
   "outputs": [],
   "source": [
    "features = ['Pclass', 'Age', 'Parch', 'Sex_Female', 'Embarked_Q', 'Embarked_S']"
   ]
  },
  {
   "cell_type": "code",
   "execution_count": 46,
   "metadata": {
    "collapsed": false
   },
   "outputs": [
    {
     "data": {
      "text/plain": [
       "[('Pclass',),\n",
       " ('Age',),\n",
       " ('Parch',),\n",
       " ('Sex_Female',),\n",
       " ('Embarked_Q',),\n",
       " ('Embarked_S',),\n",
       " ('Pclass', 'Age'),\n",
       " ('Pclass', 'Parch'),\n",
       " ('Pclass', 'Sex_Female'),\n",
       " ('Pclass', 'Embarked_Q'),\n",
       " ('Pclass', 'Embarked_S'),\n",
       " ('Age', 'Parch'),\n",
       " ('Age', 'Sex_Female'),\n",
       " ('Age', 'Embarked_Q'),\n",
       " ('Age', 'Embarked_S'),\n",
       " ('Parch', 'Sex_Female'),\n",
       " ('Parch', 'Embarked_Q'),\n",
       " ('Parch', 'Embarked_S'),\n",
       " ('Sex_Female', 'Embarked_Q'),\n",
       " ('Sex_Female', 'Embarked_S'),\n",
       " ('Embarked_Q', 'Embarked_S'),\n",
       " ('Pclass', 'Age', 'Parch'),\n",
       " ('Pclass', 'Age', 'Sex_Female'),\n",
       " ('Pclass', 'Age', 'Embarked_Q'),\n",
       " ('Pclass', 'Age', 'Embarked_S'),\n",
       " ('Pclass', 'Parch', 'Sex_Female'),\n",
       " ('Pclass', 'Parch', 'Embarked_Q'),\n",
       " ('Pclass', 'Parch', 'Embarked_S'),\n",
       " ('Pclass', 'Sex_Female', 'Embarked_Q'),\n",
       " ('Pclass', 'Sex_Female', 'Embarked_S'),\n",
       " ('Pclass', 'Embarked_Q', 'Embarked_S'),\n",
       " ('Age', 'Parch', 'Sex_Female'),\n",
       " ('Age', 'Parch', 'Embarked_Q'),\n",
       " ('Age', 'Parch', 'Embarked_S'),\n",
       " ('Age', 'Sex_Female', 'Embarked_Q'),\n",
       " ('Age', 'Sex_Female', 'Embarked_S'),\n",
       " ('Age', 'Embarked_Q', 'Embarked_S'),\n",
       " ('Parch', 'Sex_Female', 'Embarked_Q'),\n",
       " ('Parch', 'Sex_Female', 'Embarked_S'),\n",
       " ('Parch', 'Embarked_Q', 'Embarked_S'),\n",
       " ('Sex_Female', 'Embarked_Q', 'Embarked_S'),\n",
       " ('Pclass', 'Age', 'Parch', 'Sex_Female'),\n",
       " ('Pclass', 'Age', 'Parch', 'Embarked_Q'),\n",
       " ('Pclass', 'Age', 'Parch', 'Embarked_S'),\n",
       " ('Pclass', 'Age', 'Sex_Female', 'Embarked_Q'),\n",
       " ('Pclass', 'Age', 'Sex_Female', 'Embarked_S'),\n",
       " ('Pclass', 'Age', 'Embarked_Q', 'Embarked_S'),\n",
       " ('Pclass', 'Parch', 'Sex_Female', 'Embarked_Q'),\n",
       " ('Pclass', 'Parch', 'Sex_Female', 'Embarked_S'),\n",
       " ('Pclass', 'Parch', 'Embarked_Q', 'Embarked_S'),\n",
       " ('Pclass', 'Sex_Female', 'Embarked_Q', 'Embarked_S'),\n",
       " ('Age', 'Parch', 'Sex_Female', 'Embarked_Q'),\n",
       " ('Age', 'Parch', 'Sex_Female', 'Embarked_S'),\n",
       " ('Age', 'Parch', 'Embarked_Q', 'Embarked_S'),\n",
       " ('Age', 'Sex_Female', 'Embarked_Q', 'Embarked_S'),\n",
       " ('Parch', 'Sex_Female', 'Embarked_Q', 'Embarked_S'),\n",
       " ('Pclass', 'Age', 'Parch', 'Sex_Female', 'Embarked_Q'),\n",
       " ('Pclass', 'Age', 'Parch', 'Sex_Female', 'Embarked_S'),\n",
       " ('Pclass', 'Age', 'Parch', 'Embarked_Q', 'Embarked_S'),\n",
       " ('Pclass', 'Age', 'Sex_Female', 'Embarked_Q', 'Embarked_S'),\n",
       " ('Pclass', 'Parch', 'Sex_Female', 'Embarked_Q', 'Embarked_S'),\n",
       " ('Age', 'Parch', 'Sex_Female', 'Embarked_Q', 'Embarked_S'),\n",
       " ('Pclass', 'Age', 'Parch', 'Sex_Female', 'Embarked_Q', 'Embarked_S')]"
      ]
     },
     "execution_count": 46,
     "metadata": {},
     "output_type": "execute_result"
    }
   ],
   "source": [
    "import itertools\n",
    "\n",
    "possible_models = []\n",
    "for i in range(1,len(features)+1):\n",
    "    possible_models.extend(list(itertools.combinations(features,i)))\n",
    "\n",
    "possible_models"
   ]
  },
  {
   "cell_type": "code",
   "execution_count": 59,
   "metadata": {
    "collapsed": false
   },
   "outputs": [],
   "source": [
    "from sklearn.linear_model import LogisticRegression\n",
    "from sklearn.cross_validation import cross_val_score\n",
    "logreg = LogisticRegression(C=1e9)\n",
    "\n",
    "results = pd.DataFrame(index=possible_models, columns=['accuracy'])\n",
    "for model in possible_models:\n",
    "    X = titanic[list(model)]\n",
    "    results.loc[model, 'accuracy'] = cross_val_score(logreg, X, y, cv=10, scoring='accuracy').mean()"
   ]
  },
  {
   "cell_type": "code",
   "execution_count": 60,
   "metadata": {
    "collapsed": false
   },
   "outputs": [
    {
     "data": {
      "text/html": [
       "<div>\n",
       "<table border=\"1\" class=\"dataframe\">\n",
       "  <thead>\n",
       "    <tr style=\"text-align: right;\">\n",
       "      <th></th>\n",
       "      <th>accuracy</th>\n",
       "    </tr>\n",
       "  </thead>\n",
       "  <tbody>\n",
       "    <tr>\n",
       "      <th>(Pclass, Age, Parch, Sex_Female, Embarked_Q, Embarked_S)</th>\n",
       "      <td>0.793541</td>\n",
       "    </tr>\n",
       "    <tr>\n",
       "      <th>(Pclass, Age, Parch, Sex_Female, Embarked_S)</th>\n",
       "      <td>0.792443</td>\n",
       "    </tr>\n",
       "    <tr>\n",
       "      <th>(Pclass, Age, Sex_Female)</th>\n",
       "      <td>0.792379</td>\n",
       "    </tr>\n",
       "    <tr>\n",
       "      <th>(Pclass, Age, Sex_Female, Embarked_Q, Embarked_S)</th>\n",
       "      <td>0.791268</td>\n",
       "    </tr>\n",
       "    <tr>\n",
       "      <th>(Pclass, Age, Parch, Sex_Female, Embarked_Q)</th>\n",
       "      <td>0.790145</td>\n",
       "    </tr>\n",
       "  </tbody>\n",
       "</table>\n",
       "</div>"
      ],
      "text/plain": [
       "                                                    accuracy\n",
       "(Pclass, Age, Parch, Sex_Female, Embarked_Q, Em...  0.793541\n",
       "(Pclass, Age, Parch, Sex_Female, Embarked_S)        0.792443\n",
       "(Pclass, Age, Sex_Female)                           0.792379\n",
       "(Pclass, Age, Sex_Female, Embarked_Q, Embarked_S)   0.791268\n",
       "(Pclass, Age, Parch, Sex_Female, Embarked_Q)        0.790145"
      ]
     },
     "execution_count": 60,
     "metadata": {},
     "output_type": "execute_result"
    }
   ],
   "source": [
    "results.sort_values('accuracy', ascending=False).head()"
   ]
  },
  {
   "cell_type": "markdown",
   "metadata": {},
   "source": [
    "# Bonus Exercise 6.4 (3 points)\n",
    "\n",
    "Now which is the best set of features selected by AUC"
   ]
  },
  {
   "cell_type": "code",
   "execution_count": 63,
   "metadata": {
    "collapsed": false
   },
   "outputs": [],
   "source": [
    "from sklearn import metrics\n",
    "from sklearn.cross_validation import KFold\n",
    "import numpy as np\n",
    "\n",
    "results['AUC'] = 0\n",
    "\n",
    "for model in possible_models:\n",
    "    X = titanic[list(model)]\n",
    "    \n",
    "    # Create k-folds\n",
    "    kf = KFold(X.shape[0], n_folds=10, random_state=0)\n",
    "\n",
    "    res = []\n",
    "\n",
    "    for train_index, test_index in kf:\n",
    "        X_train, X_test = X.iloc[train_index], X.iloc[test_index]\n",
    "        y_train, y_test = y.iloc[train_index], y.iloc[test_index]\n",
    "    \n",
    "        logreg = LogisticRegression(C=1e9)\n",
    "        logreg.fit(X_train, y_train)\n",
    "        \n",
    "        y_pred_prob = logreg.predict_proba(X_test)[:, 1]\n",
    "        res.append(metrics.roc_auc_score(y_test, y_pred_prob))\n",
    "\n",
    "    results.loc[model, 'AUC'] = np.mean(res)"
   ]
  },
  {
   "cell_type": "code",
   "execution_count": 64,
   "metadata": {
    "collapsed": false
   },
   "outputs": [
    {
     "data": {
      "text/html": [
       "<div>\n",
       "<table border=\"1\" class=\"dataframe\">\n",
       "  <thead>\n",
       "    <tr style=\"text-align: right;\">\n",
       "      <th></th>\n",
       "      <th>accuracy</th>\n",
       "      <th>AUC</th>\n",
       "    </tr>\n",
       "  </thead>\n",
       "  <tbody>\n",
       "    <tr>\n",
       "      <th>(Pclass, Age, Sex_Female, Embarked_S)</th>\n",
       "      <td>0.786774</td>\n",
       "      <td>0.846793</td>\n",
       "    </tr>\n",
       "    <tr>\n",
       "      <th>(Pclass, Age, Parch, Sex_Female, Embarked_S)</th>\n",
       "      <td>0.792443</td>\n",
       "      <td>0.846359</td>\n",
       "    </tr>\n",
       "    <tr>\n",
       "      <th>(Pclass, Age, Sex_Female, Embarked_Q, Embarked_S)</th>\n",
       "      <td>0.791268</td>\n",
       "      <td>0.846294</td>\n",
       "    </tr>\n",
       "    <tr>\n",
       "      <th>(Pclass, Age, Parch, Sex_Female, Embarked_Q, Embarked_S)</th>\n",
       "      <td>0.793541</td>\n",
       "      <td>0.845130</td>\n",
       "    </tr>\n",
       "    <tr>\n",
       "      <th>(Pclass, Age, Parch, Sex_Female)</th>\n",
       "      <td>0.790119</td>\n",
       "      <td>0.843077</td>\n",
       "    </tr>\n",
       "  </tbody>\n",
       "</table>\n",
       "</div>"
      ],
      "text/plain": [
       "                                                    accuracy       AUC\n",
       "(Pclass, Age, Sex_Female, Embarked_S)               0.786774  0.846793\n",
       "(Pclass, Age, Parch, Sex_Female, Embarked_S)        0.792443  0.846359\n",
       "(Pclass, Age, Sex_Female, Embarked_Q, Embarked_S)   0.791268  0.846294\n",
       "(Pclass, Age, Parch, Sex_Female, Embarked_Q, Em...  0.793541  0.845130\n",
       "(Pclass, Age, Parch, Sex_Female)                    0.790119  0.843077"
      ]
     },
     "execution_count": 64,
     "metadata": {},
     "output_type": "execute_result"
    }
   ],
   "source": [
    "results.sort_values('AUC', ascending=False).head()"
   ]
  }
 ],
 "metadata": {
  "kernelspec": {
   "display_name": "Python 3",
   "language": "python",
   "name": "python3"
  },
  "language_info": {
   "codemirror_mode": {
    "name": "ipython",
    "version": 3
   },
   "file_extension": ".py",
   "mimetype": "text/x-python",
   "name": "python",
   "nbconvert_exporter": "python",
   "pygments_lexer": "ipython3",
   "version": "3.5.1"
  }
 },
 "nbformat": 4,
 "nbformat_minor": 0
}
