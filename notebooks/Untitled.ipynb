{
 "cells": [
  {
   "cell_type": "code",
   "execution_count": null,
   "metadata": {
    "collapsed": false
   },
   "outputs": [],
   "source": [
    "import pandas as pd\n",
    "datos = pd.read_excel(\"/Users/FelipeGarcia/Desktop/Consultoria/base_2015.xlsx\", sheetname=0, header=0)\n",
    "datos.shape"
   ]
  },
  {
   "cell_type": "code",
   "execution_count": 21,
   "metadata": {
    "collapsed": false
   },
   "outputs": [
    {
     "data": {
      "text/plain": [
       "ESE QUE RECIBE LA NOTIFICACION                                        0\n",
       "NOMBRE DE LA RAZON SOCIAL UPGD /UI                                    0\n",
       "NOMBRE DEL EVENTO                                                     0\n",
       "FECHA DE NOTIFICACION                                                 0\n",
       "SEMANA EPIDEMIOLOGICA                                                 0\n",
       "TIPO DE DOCUMENTO                                                     0\n",
       "NUMERO DE IDENTIFICACION                                              0\n",
       "PRIMER \\nNOMBRE                                                       0\n",
       "SEGUNDO NOMBRE                                                      682\n",
       "PRIMER \\nAPELLIDO                                                     1\n",
       "SEGUNDO APELLIDO                                                    227\n",
       "TELEFONO                                                              0\n",
       "FECHA DE NACIMIEN\\nTO                                                 1\n",
       "EDAD \\nEN \\nAÑOS CUMPLI\\nDOS                                          0\n",
       "UNIDAD \\nDE \\nMEDIDA \\nDE LA\\n EDAD                                   0\n",
       "SEXO                                                                  0\n",
       "PAIS DE OCURREN\\nCIA                                                  0\n",
       "DEPARTAMENTO Y MUNICI\\nPIO DE OCURRENCIA                              0\n",
       "AREA DE OCURREN\\nCIA DEL CASO                                         0\n",
       "LOCALIDAD                                                             0\n",
       "BARRIO DE OCURRENCIA                                                  0\n",
       "CABECERA MUNICIPAL                                                    0\n",
       "VEREDA                                                             6601\n",
       "UPZ                                                                  28\n",
       "OCUPA\\nCION                                                           5\n",
       "ESTADO CIVIL                                                          0\n",
       "ESCOLA\\nRIDAD                                                         0\n",
       "TIPO DE REGIMEN\\n EN SALUD                                            1\n",
       " NOMBRE DE LA ADMINS\\nTRADORA DE SERVICIOS DE SALUD                   1\n",
       "PERTENENCIA ETNICA                                                    0\n",
       "                                                                   ... \n",
       "NO PRACTICA CREENCIA                                               3670\n",
       "EVENTOS VITALES ESTRESANTES                                        2254\n",
       "FACIL ACCESO A ARMAS, MEDICAMENTOS Y TOXICOS                       3690\n",
       "PERDIDAS AFECTIVAS                                                 3014\n",
       "PUNTAJE SOCIAL ECONOMICO Y CULTURAL                                   1\n",
       "PUNTAJE NIVEL DE RIESGO                                               7\n",
       "EVENTO DESENCADENANTE PRIMARIO                                        8\n",
       "EVENTO DESENCADENANTE SECUNDARIO                                     51\n",
       "CONDUCTA REINCIDENTE                                                 11\n",
       "NUMERO \\nDE \\nREINCIDENCIAS                                        2698\n",
       "CLASIFICACION DE LA CONDUCTA SUICICIDA POSTERIOR AL SEGUIMIENTO       2\n",
       "ATENDIDO POR EL DCRUE                             (SI O NO)           2\n",
       "SERVICIOS DE SALUD A LOS QUE SE CANALIZA                           1660\n",
       "OTRO / CUAL SERVICIO SALUD                                         5595\n",
       "SERVICIOS SOCIALES A LOS QUE SE CANALIZA                           5863\n",
       "OTRO / CUAL SERVICIO SOCIAL                                        6166\n",
       "AJUSTE DEL CASO                                                       2\n",
       "FECHA CIERRE DE LA INTERVECION                                        0\n",
       "INTERVENCION EFECTIVA O FALLIDA                                       0\n",
       "FECHA  EN QUE SE REALIZA EL MONITOREO                               395\n",
       "SE REALIZA CONTACTO                                                 570\n",
       "PERSISTE LA IDEA DE MORIR                                           753\n",
       "SE ABRE NUEVA INTERVENCION SISVECOS                                 624\n",
       "FECHA INICIO NUEVA INTERVENCION SISVECOS                           6229\n",
       "OBSERVACIONES                                                         0\n",
       "NOMBRE DEL PORFESIONAL QUE REALIZA LA INTERVENCION                    2\n",
       "Unnamed: 189                                                       5400\n",
       "Unnamed: 190                                                       6626\n",
       "Unnamed: 191                                                       6638\n",
       "Unnamed: 192                                                       6641\n",
       "dtype: int64"
      ]
     },
     "execution_count": 21,
     "metadata": {},
     "output_type": "execute_result"
    }
   ],
   "source": [
    "datos.isnull().sum()"
   ]
  }
 ],
 "metadata": {
  "kernelspec": {
   "display_name": "Python 3",
   "language": "python",
   "name": "python3"
  },
  "language_info": {
   "codemirror_mode": {
    "name": "ipython",
    "version": 3
   },
   "file_extension": ".py",
   "mimetype": "text/x-python",
   "name": "python",
   "nbconvert_exporter": "python",
   "pygments_lexer": "ipython3",
   "version": "3.5.1"
  }
 },
 "nbformat": 4,
 "nbformat_minor": 0
}
