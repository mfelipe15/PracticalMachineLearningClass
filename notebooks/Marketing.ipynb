{
 "cells": [
  {
   "cell_type": "markdown",
   "metadata": {
    "collapsed": true
   },
   "source": [
    "Cargamos la libreria:"
   ]
  },
  {
   "cell_type": "code",
   "execution_count": 1,
   "metadata": {
    "collapsed": true
   },
   "outputs": [],
   "source": [
    "import pandas as pd"
   ]
  },
  {
   "cell_type": "markdown",
   "metadata": {},
   "source": [
    "Leemos los datos desde el Excel que tenemos:"
   ]
  },
  {
   "cell_type": "code",
   "execution_count": 2,
   "metadata": {
    "collapsed": false
   },
   "outputs": [
    {
     "data": {
      "text/plain": [
       "(62, 28)"
      ]
     },
     "execution_count": 2,
     "metadata": {},
     "output_type": "execute_result"
    }
   ],
   "source": [
    "datos = pd.read_excel(\"/Users/FelipeGarcia/Downloads/DatosDofa.xlsx\",sheetname=0,header=0)\n",
    "datos.shape"
   ]
  },
  {
   "cell_type": "code",
   "execution_count": 3,
   "metadata": {
    "collapsed": false
   },
   "outputs": [
    {
     "data": {
      "text/html": [
       "<div>\n",
       "<table border=\"1\" class=\"dataframe\">\n",
       "  <thead>\n",
       "    <tr style=\"text-align: right;\">\n",
       "      <th></th>\n",
       "      <th>DEPENDENCIA_CONTRATO</th>\n",
       "      <th>NOM_MATERIA</th>\n",
       "      <th>P1</th>\n",
       "      <th>P2</th>\n",
       "      <th>P3</th>\n",
       "      <th>prom_progr</th>\n",
       "      <th>P5</th>\n",
       "      <th>P6</th>\n",
       "      <th>P7</th>\n",
       "      <th>P8</th>\n",
       "      <th>...</th>\n",
       "      <th>P16</th>\n",
       "      <th>P17</th>\n",
       "      <th>prom_pedag</th>\n",
       "      <th>P19</th>\n",
       "      <th>P20</th>\n",
       "      <th>P21</th>\n",
       "      <th>P22</th>\n",
       "      <th>P24</th>\n",
       "      <th>prom_instit</th>\n",
       "      <th>prom_general</th>\n",
       "    </tr>\n",
       "  </thead>\n",
       "  <tbody>\n",
       "    <tr>\n",
       "      <th>1</th>\n",
       "      <td>ESTADISTICA</td>\n",
       "      <td>CALCULO NUMERICO Y SIM</td>\n",
       "      <td>5</td>\n",
       "      <td>5</td>\n",
       "      <td>5</td>\n",
       "      <td>5</td>\n",
       "      <td>5</td>\n",
       "      <td>5</td>\n",
       "      <td>5</td>\n",
       "      <td>5</td>\n",
       "      <td>...</td>\n",
       "      <td>5</td>\n",
       "      <td>5</td>\n",
       "      <td>5</td>\n",
       "      <td>5</td>\n",
       "      <td>5</td>\n",
       "      <td>5</td>\n",
       "      <td>4</td>\n",
       "      <td>5</td>\n",
       "      <td>5</td>\n",
       "      <td>20.292764</td>\n",
       "    </tr>\n",
       "    <tr>\n",
       "      <th>2</th>\n",
       "      <td>ESTADISTICA</td>\n",
       "      <td>CALCULO NUMERICO Y SIM</td>\n",
       "      <td>5</td>\n",
       "      <td>5</td>\n",
       "      <td>3</td>\n",
       "      <td>5</td>\n",
       "      <td>5</td>\n",
       "      <td>4</td>\n",
       "      <td>4</td>\n",
       "      <td>4</td>\n",
       "      <td>...</td>\n",
       "      <td>4</td>\n",
       "      <td>4</td>\n",
       "      <td>5</td>\n",
       "      <td>5</td>\n",
       "      <td>5</td>\n",
       "      <td>4</td>\n",
       "      <td>4</td>\n",
       "      <td>4</td>\n",
       "      <td>5</td>\n",
       "      <td>19.354733</td>\n",
       "    </tr>\n",
       "    <tr>\n",
       "      <th>3</th>\n",
       "      <td>ESTADISTICA</td>\n",
       "      <td>CALCULO NUMERICO Y SIM</td>\n",
       "      <td>4</td>\n",
       "      <td>4</td>\n",
       "      <td>3</td>\n",
       "      <td>4</td>\n",
       "      <td>3</td>\n",
       "      <td>4</td>\n",
       "      <td>3</td>\n",
       "      <td>3</td>\n",
       "      <td>...</td>\n",
       "      <td>4</td>\n",
       "      <td>4</td>\n",
       "      <td>4</td>\n",
       "      <td>4</td>\n",
       "      <td>3</td>\n",
       "      <td>3</td>\n",
       "      <td>3</td>\n",
       "      <td>3</td>\n",
       "      <td>4</td>\n",
       "      <td>14.945348</td>\n",
       "    </tr>\n",
       "    <tr>\n",
       "      <th>4</th>\n",
       "      <td>ESTADISTICA</td>\n",
       "      <td>ESTADISTICA I</td>\n",
       "      <td>5</td>\n",
       "      <td>5</td>\n",
       "      <td>5</td>\n",
       "      <td>5</td>\n",
       "      <td>5</td>\n",
       "      <td>5</td>\n",
       "      <td>5</td>\n",
       "      <td>5</td>\n",
       "      <td>...</td>\n",
       "      <td>4</td>\n",
       "      <td>5</td>\n",
       "      <td>5</td>\n",
       "      <td>5</td>\n",
       "      <td>5</td>\n",
       "      <td>5</td>\n",
       "      <td>5</td>\n",
       "      <td>5</td>\n",
       "      <td>5</td>\n",
       "      <td>19.773251</td>\n",
       "    </tr>\n",
       "    <tr>\n",
       "      <th>5</th>\n",
       "      <td>ESTADISTICA</td>\n",
       "      <td>CALCULO NUMERICO Y SIM</td>\n",
       "      <td>5</td>\n",
       "      <td>3</td>\n",
       "      <td>3</td>\n",
       "      <td>4</td>\n",
       "      <td>3</td>\n",
       "      <td>3</td>\n",
       "      <td>3</td>\n",
       "      <td>3</td>\n",
       "      <td>...</td>\n",
       "      <td>2</td>\n",
       "      <td>1</td>\n",
       "      <td>2</td>\n",
       "      <td>3</td>\n",
       "      <td>3</td>\n",
       "      <td>4</td>\n",
       "      <td>4</td>\n",
       "      <td>3</td>\n",
       "      <td>2</td>\n",
       "      <td>11.302944</td>\n",
       "    </tr>\n",
       "  </tbody>\n",
       "</table>\n",
       "<p>5 rows × 28 columns</p>\n",
       "</div>"
      ],
      "text/plain": [
       "  DEPENDENCIA_CONTRATO             NOM_MATERIA  P1  P2  P3  prom_progr  P5  \\\n",
       "1          ESTADISTICA  CALCULO NUMERICO Y SIM   5   5   5           5   5   \n",
       "2          ESTADISTICA  CALCULO NUMERICO Y SIM   5   5   3           5   5   \n",
       "3          ESTADISTICA  CALCULO NUMERICO Y SIM   4   4   3           4   3   \n",
       "4          ESTADISTICA           ESTADISTICA I   5   5   5           5   5   \n",
       "5          ESTADISTICA  CALCULO NUMERICO Y SIM   5   3   3           4   3   \n",
       "\n",
       "   P6  P7  P8      ...       P16  P17  prom_pedag  P19  P20  P21  P22  P24  \\\n",
       "1   5   5   5      ...         5    5           5    5    5    5    4    5   \n",
       "2   4   4   4      ...         4    4           5    5    5    4    4    4   \n",
       "3   4   3   3      ...         4    4           4    4    3    3    3    3   \n",
       "4   5   5   5      ...         4    5           5    5    5    5    5    5   \n",
       "5   3   3   3      ...         2    1           2    3    3    4    4    3   \n",
       "\n",
       "   prom_instit  prom_general  \n",
       "1            5     20.292764  \n",
       "2            5     19.354733  \n",
       "3            4     14.945348  \n",
       "4            5     19.773251  \n",
       "5            2     11.302944  \n",
       "\n",
       "[5 rows x 28 columns]"
      ]
     },
     "execution_count": 3,
     "metadata": {},
     "output_type": "execute_result"
    }
   ],
   "source": [
    "datos.head()"
   ]
  },
  {
   "cell_type": "markdown",
   "metadata": {},
   "source": [
    "La primer regresión es para el criterio #1 correspondiente a \"programa\""
   ]
  },
  {
   "cell_type": "code",
   "execution_count": 4,
   "metadata": {
    "collapsed": false
   },
   "outputs": [
    {
     "name": "stdout",
     "output_type": "stream",
     "text": [
      "[ 0.38864532  0.32880914  0.22308265]\n",
      "0.203920141151\n"
     ]
    }
   ],
   "source": [
    "### Criterio 1: Programa\n",
    "from sklearn.linear_model import LinearRegression\n",
    "linreg = LinearRegression()\n",
    "feature_cols = ['P1','P2','P3']\n",
    "X = datos[feature_cols]\n",
    "y = datos.prom_progr\n",
    "linreg.fit(X, y)\n",
    "print(linreg.coef_)\n",
    "print(linreg.intercept_)"
   ]
  },
  {
   "cell_type": "markdown",
   "metadata": {},
   "source": [
    "Regresion para el segundo criterio \"Disciplina\""
   ]
  },
  {
   "cell_type": "code",
   "execution_count": 5,
   "metadata": {
    "collapsed": false
   },
   "outputs": [
    {
     "name": "stdout",
     "output_type": "stream",
     "text": [
      "[ 0.26830389  0.33545499  0.04642575  0.12778396  0.2313593 ]\n",
      "-0.0413825911703\n"
     ]
    }
   ],
   "source": [
    "### Criterio 2: Disciplina\n",
    "from sklearn.linear_model import LinearRegression\n",
    "linreg2 = LinearRegression()\n",
    "feature_cols = ['P5','P6','P7','P8','P9']\n",
    "X2 = datos[feature_cols]\n",
    "y2 = datos.prom_disc\n",
    "linreg2.fit(X2, y2)\n",
    "print(linreg2.coef_)\n",
    "print(linreg2.intercept_)"
   ]
  },
  {
   "cell_type": "markdown",
   "metadata": {},
   "source": [
    "Regresion para el tercer criterio \"Pedagógico\""
   ]
  },
  {
   "cell_type": "code",
   "execution_count": 6,
   "metadata": {
    "collapsed": false
   },
   "outputs": [
    {
     "name": "stdout",
     "output_type": "stream",
     "text": [
      "[ 0.205135   -0.0608246   0.22237491  0.04356408  0.04140343 -0.09590913\n",
      "  0.2273021   0.27873603]\n",
      "0.541053580844\n"
     ]
    }
   ],
   "source": [
    "### Criterio 3: Pedagógico\n",
    "from sklearn.linear_model import LinearRegression\n",
    "linreg3 = LinearRegression()\n",
    "feature_cols = ['P10','P11','P12','P13','P14','P15','P16','P17']\n",
    "X3 = datos[feature_cols]\n",
    "y3 = datos.prom_pedag\n",
    "linreg3.fit(X3, y3)\n",
    "print(linreg3.coef_)\n",
    "print(linreg3.intercept_)"
   ]
  },
  {
   "cell_type": "markdown",
   "metadata": {},
   "source": [
    "Regresión para el cuarto criterio \"Compromiso Institucional\""
   ]
  },
  {
   "cell_type": "code",
   "execution_count": 7,
   "metadata": {
    "collapsed": false
   },
   "outputs": [
    {
     "name": "stdout",
     "output_type": "stream",
     "text": [
      "[ 0.76905114 -0.36395405  0.15685324  0.40552233  0.06799551]\n",
      "-0.219483947119\n"
     ]
    }
   ],
   "source": [
    "### Criterio 4: Compromiso Natural\n",
    "from sklearn.linear_model import LinearRegression\n",
    "linreg4 = LinearRegression()\n",
    "feature_cols = ['P19','P20','P21','P22','P24']\n",
    "X4 = datos[feature_cols]\n",
    "y4 = datos.prom_instit\n",
    "linreg4.fit(X4, y4)\n",
    "print(linreg4.coef_)\n",
    "print(linreg4.intercept_)"
   ]
  },
  {
   "cell_type": "markdown",
   "metadata": {},
   "source": [
    "Regresión para los promedios generales:"
   ]
  },
  {
   "cell_type": "code",
   "execution_count": 8,
   "metadata": {
    "collapsed": false
   },
   "outputs": [
    {
     "name": "stdout",
     "output_type": "stream",
     "text": [
      "[ 1.41446884  0.95514754  1.04040721  0.95639184]\n",
      "-1.45626653102\n"
     ]
    }
   ],
   "source": [
    "### 5: General\n",
    "from sklearn.linear_model import LinearRegression\n",
    "linreg5 = LinearRegression()\n",
    "feature_cols = ['prom_progr','prom_disc','prom_pedag','prom_instit']\n",
    "X5 = datos[feature_cols]\n",
    "y5 = datos.prom_general\n",
    "linreg5.fit(X5, y5)\n",
    "print(linreg5.coef_)\n",
    "print(linreg5.intercept_)"
   ]
  }
 ],
 "metadata": {
  "kernelspec": {
   "display_name": "Python 3",
   "language": "python",
   "name": "python3"
  },
  "language_info": {
   "codemirror_mode": {
    "name": "ipython",
    "version": 3
   },
   "file_extension": ".py",
   "mimetype": "text/x-python",
   "name": "python",
   "nbconvert_exporter": "python",
   "pygments_lexer": "ipython3",
   "version": "3.5.1"
  }
 },
 "nbformat": 4,
 "nbformat_minor": 0
}
